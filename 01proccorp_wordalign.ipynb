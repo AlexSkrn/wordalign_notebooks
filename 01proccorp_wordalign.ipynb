{
 "cells": [
  {
   "cell_type": "markdown",
   "metadata": {},
   "source": [
    "# Process texts and word align\n",
    "\n",
    "\n",
    "# Steps:\n",
    "\n",
    "## PART I\n",
    "\n",
    "    (1) Look at data\n",
    "\n",
    "    (2) Combine into a single tab-delimited file \n",
    "\n",
    "    (3)(1) Sort & remove duplicate lines & (2) Remove near duplicate lines\n",
    "\n",
    "    (4) Remove lines where SRC == TRG or where SRC ~= TRG\n",
    "\n",
    "    (5) Word tokenize (+ remove punct, digits, stop words) \n",
    "\n",
    "    (6)(1) Remove outliers (where diff in sentence length between SRC and TRG is too large) & (2) Remove too long sentences\n",
    "\n",
    "## PART II\n",
    "\n",
    "    (1) Word align\n",
    "\n",
    "    (2) Extract Glossary"
   ]
  },
  {
   "cell_type": "markdown",
   "metadata": {},
   "source": [
    "## PART I\n",
    "\n",
    "### (1) Look at data"
   ]
  },
  {
   "cell_type": "code",
   "execution_count": 1,
   "metadata": {},
   "outputs": [
    {
     "name": "stdout",
     "output_type": "stream",
     "text": [
      "/Users/alexskrn/Documents/NLP/WordAlign/wordalign_notebooks\r\n"
     ]
    }
   ],
   "source": [
    "!pwd"
   ]
  },
  {
   "cell_type": "code",
   "execution_count": 2,
   "metadata": {},
   "outputs": [],
   "source": [
    "PROC_DATA_PREFIX = '/Users/alexskrn/Documents/NLP/WordAlign/wordalign_notebooks/data'"
   ]
  },
  {
   "cell_type": "code",
   "execution_count": 3,
   "metadata": {},
   "outputs": [
    {
     "name": "stdout",
     "output_type": "stream",
     "text": [
      "   42421 /Users/alexskrn/Documents/NLP/WordAlign/wordalign_notebooks/data/s_res_en\n",
      "   42421 /Users/alexskrn/Documents/NLP/WordAlign/wordalign_notebooks/data/s_res_ru\n"
     ]
    }
   ],
   "source": [
    "# Number of lines in SRC file and TRG file\n",
    "!wc -l {PROC_DATA_PREFIX}/s_res_en\n",
    "!wc -l {PROC_DATA_PREFIX}/s_res_ru"
   ]
  },
  {
   "cell_type": "code",
   "execution_count": 9,
   "metadata": {},
   "outputs": [
    {
     "name": "stdout",
     "output_type": "stream",
     "text": [
      "1182548\n"
     ]
    }
   ],
   "source": [
    "# word count\n",
    "count = 0\n",
    "with open(PROC_DATA_PREFIX + '/' + 's_res_en', 'r', encoding='utf8') as inF:\n",
    "    for line in inF:\n",
    "        count += len(preprocess(line.strip()).split())\n",
    "print(count)"
   ]
  },
  {
   "cell_type": "code",
   "execution_count": 8,
   "metadata": {},
   "outputs": [
    {
     "data": {
      "text/plain": [
       "21"
      ]
     },
     "execution_count": 8,
     "metadata": {},
     "output_type": "execute_result"
    }
   ],
   "source": [
    "text = \"◦ The Participation as a partner in an the international facility in Russia to provide enrichment services for a reliable supply of fuel to Iran's nuclear reactors.\"\n",
    "len(preprocess(text.strip()).split())"
   ]
  },
  {
   "cell_type": "code",
   "execution_count": 10,
   "metadata": {},
   "outputs": [
    {
     "name": "stdout",
     "output_type": "stream",
     "text": [
      "1263651\n"
     ]
    }
   ],
   "source": [
    "# word count\n",
    "count = 0\n",
    "with open(PROC_DATA_PREFIX + '/' + 's_res_ru', 'r', encoding='utf8') as inF:\n",
    "    for line in inF:\n",
    "        count += len(preprocess(line.strip()).split())\n",
    "print(count)"
   ]
  },
  {
   "cell_type": "code",
   "execution_count": 7,
   "metadata": {
    "scrolled": true
   },
   "outputs": [
    {
     "name": "stdout",
     "output_type": "stream",
     "text": [
      "Distr.\n",
      "GENERAL\n",
      "28 July 1993\n",
      "RESOLUTION 852 (1993)\n",
      "Distr.\n",
      "GENERAL\n",
      "28 July 1993\n",
      "РЕЗОЛЮЦИЯ 852 (1993),\n"
     ]
    }
   ],
   "source": [
    "!head -4 {PROC_DATA_PREFIX}/s_res_en\n",
    "!head -4 {PROC_DATA_PREFIX}/s_res_ru"
   ]
  },
  {
   "cell_type": "code",
   "execution_count": 9,
   "metadata": {
    "scrolled": true
   },
   "outputs": [
    {
     "name": "stdout",
     "output_type": "stream",
     "text": [
      "22. Recalls the request, in resolution 2178 (2014), to the Analytical Support and Sanctions Monitoring Team, in close cooperation with all relevant United Nations counter-terrorism bodies, to report to the Committee pursuant to resolution 1267 (1999) and 1989 (2011) within 180 days, on the threat posed by foreign terrorist fighters recruited by or joining ISIL, ANF, and all groups, undertakings, and entities associated with Al-Qaida, and reiterates that this report should also focus on trends related to foreign terrorist fighters joining and working with all terrorist groups listed on the 1267 Al-Qaida Sanctions List, and should include an oral briefing to the Committee and a Committee brief to the Security Council at the next regular briefing on counter-terrorism on those operating in Africa.\n",
      "22. напоминает о просьбе, адресованной в резолюции 2178 (2014) Группе по аналитической поддержке и наблюдению за санкциями и заключающейся в том, чтобы она, действуя в тесном сотрудничестве со всеми соответствующими контртеррористическими органами Организации Объединенных Наций, в течение 180 дней представила Комитету, учрежденному резолюциями 1267 (1999) и 1989 (2011), доклад об угрозе, создаваемой иностранными боевиками-террористами, которых вербуют или принимают в свои ряды ИГИЛ, ФАН и все группы, предприятия и организации, связанные с <<Аль-Каидой>>, и вновь заявляет, что в этом докладе следует также уделить особое внимание тенденциям, связанным с пополнением иностранными боевиками-террористами рядов всех террористических групп, фигурирующих в санкционном перечне в отношении <<АльКаиды>>, предусмотренном резолюцией 1267, и с их взаимодействием с этими группами, а также отразить в нем устную информацию о таких группах, действующих в Африке, которая будет представлена Комитету и Комитетом Совету Безопасности на очередном брифинге по вопросам противодействия терроризму.\n"
     ]
    }
   ],
   "source": [
    "!tail -1 {PROC_DATA_PREFIX}/s_res_en\n",
    "!tail -1 {PROC_DATA_PREFIX}/s_res_ru"
   ]
  },
  {
   "cell_type": "markdown",
   "metadata": {},
   "source": [
    "### (2) Combine into a single tab-delimited file"
   ]
  },
  {
   "cell_type": "code",
   "execution_count": 12,
   "metadata": {},
   "outputs": [
    {
     "name": "stdout",
     "output_type": "stream",
     "text": [
      "   42421 /Users/alexskrn/Documents/NLP/WordAlign/wordalign_notebooks/data/en_ru\n",
      "Distr.\tDistr.\n",
      "GENERAL\tGENERAL\n",
      "28 July 1993\t28 July 1993\n",
      "RESOLUTION 852 (1993)\tРЕЗОЛЮЦИЯ 852 (1993),\n"
     ]
    }
   ],
   "source": [
    "!paste {PROC_DATA_PREFIX}/s_res_en {PROC_DATA_PREFIX}/s_res_ru > \\\n",
    "       {PROC_DATA_PREFIX}/en_ru\n",
    "\n",
    "!wc -l {PROC_DATA_PREFIX}/en_ru\n",
    "!head -4 {PROC_DATA_PREFIX}/en_ru"
   ]
  },
  {
   "cell_type": "markdown",
   "metadata": {},
   "source": [
    "### (3)(1) Sort & remove duplicate lines "
   ]
  },
  {
   "cell_type": "code",
   "execution_count": 14,
   "metadata": {},
   "outputs": [
    {
     "name": "stdout",
     "output_type": "stream",
     "text": [
      "   35367 /Users/alexskrn/Documents/NLP/WordAlign/wordalign_notebooks/data/en_ru_sort_uniq\n",
      "− Alphons Orie (The Netherlands)\t- Алфонс Ори (Нидерланды)\n",
      "− Antoine Kesia-Mbe Mindua (Democratic Republic of Congo)\t- Антуан Кесия-Мбе Миндуа (Демократическая Республика Конго)\n",
      "− Bakone Justice Moloto (South Africa)\t- Баконе Джастис Молото (Южная Африка)\n",
      "− Burton Hall (The Bahamas)\t- Бертон Холл (Багамские Острова)\n"
     ]
    }
   ],
   "source": [
    "!sort -u {PROC_DATA_PREFIX}/en_ru > {PROC_DATA_PREFIX}/en_ru_sort_uniq\n",
    "!wc -l {PROC_DATA_PREFIX}/en_ru_sort_uniq\n",
    "!head -4 {PROC_DATA_PREFIX}/en_ru_sort_uniq"
   ]
  },
  {
   "cell_type": "code",
   "execution_count": 15,
   "metadata": {},
   "outputs": [
    {
     "name": "stdout",
     "output_type": "stream",
     "text": [
      "Árpád Prandler (Hungary)\tАрпат Прандлер (Венгрия)\r\n",
      "◦ Development with IAEA of a standing multilateral mechanism for reliable access to nuclear fuel, based on ideas to be considered at the next meeting of the Board of Governors.\t:: создания совместно с МАГАТЭ постоянного многостороннего механизма надежного обеспечения доступа к ядерному топливу на основе идей, которые будут рассмотрены на следующем заседании Совета управляющих.\r\n",
      "◦ Establishment on commercial terms of a buffer stock to hold a reserve of up to five years' supply of nuclear fuel dedicated to Iran, with the participation and under supervision of IAEA.\t:: создания на коммерческих началах резервных запасов предназначенного для Ирана ядерного топлива, рассчитанных на пять лет, при участии и под контролем МАГАТЭ;\r\n",
      "◦ Participation as a partner in an international facility in Russia to provide enrichment services for a reliable supply of fuel to Iran's nuclear reactors.\t:: привлечения его в качестве партнера к работе находящегося в России международного объекта по оказанию услуг в области обогащения в целях надежной поставки топлива для ядерных реакторов Ирана.\r\n"
     ]
    }
   ],
   "source": [
    "!tail -4 {PROC_DATA_PREFIX}/en_ru_sort_uniq"
   ]
  },
  {
   "cell_type": "markdown",
   "metadata": {},
   "source": [
    "### (3)(2) Remove near duplicate lines"
   ]
  },
  {
   "cell_type": "code",
   "execution_count": 16,
   "metadata": {},
   "outputs": [],
   "source": [
    "import nltk\n",
    "from nltk.metrics.distance import jaro_similarity"
   ]
  },
  {
   "cell_type": "code",
   "execution_count": 17,
   "metadata": {},
   "outputs": [
    {
     "name": "stdout",
     "output_type": "stream",
     "text": [
      "   35367 /Users/alexskrn/Documents/NLP/WordAlign/wordalign_notebooks/data/en_ru_sort_uniq\n",
      "   28972 /Users/alexskrn/Documents/NLP/WordAlign/wordalign_notebooks/data/en_ru_sort_uniq_remsim\n"
     ]
    }
   ],
   "source": [
    "# Get rid of near duplicate lines\n",
    "# takes long - wait !\n",
    "threshold = 0.85\n",
    "with open(PROC_DATA_PREFIX + '/' + 'en_ru_sort_uniq', 'r', encoding='utf8') as inF, \\\n",
    "     open(PROC_DATA_PREFIX + '/' + 'en_ru_sort_uniq_remsim', 'w', encoding='utf8') as toF:\n",
    "    prev_line = inF.readline()\n",
    "    for curr_line in inF:\n",
    "        if jaro_similarity(prev_line, curr_line) > threshold:  # Two lines are very similar,\n",
    "            prev_line = curr_line                              # forget previous line\n",
    "        else:\n",
    "            toF.write(prev_line)   # If not similar, put previous line into file,\n",
    "            prev_line = curr_line  # then forget previous line\n",
    "\n",
    "!wc -l {PROC_DATA_PREFIX}/'en_ru_sort_uniq'\n",
    "!wc -l {PROC_DATA_PREFIX}/'en_ru_sort_uniq_remsim'"
   ]
  },
  {
   "cell_type": "markdown",
   "metadata": {},
   "source": [
    "### (4) Remove lines where SRC == TRG or where SRC ~= TRG"
   ]
  },
  {
   "cell_type": "code",
   "execution_count": 18,
   "metadata": {
    "scrolled": true
   },
   "outputs": [
    {
     "name": "stdout",
     "output_type": "stream",
     "text": [
      "c. Location: Room 1610 Nan Fung Tower, 173 Des Voeux Road, Hong Kong\tc. Место расположения: Room 1610 Nan Fung Tower, 173 Des Voeux Road, Hong Kong\r\n"
     ]
    }
   ],
   "source": [
    "# Examples of similar SRC and TRG\n",
    "!sed -n -e '34934{p;q;}' /Users/alexskrn/Documents/NLP/WordAlign/wordalign_notebooks/data/en_ru_sort_uniq"
   ]
  },
  {
   "cell_type": "code",
   "execution_count": 19,
   "metadata": {
    "scrolled": true
   },
   "outputs": [
    {
     "name": "stdout",
     "output_type": "stream",
     "text": [
      "Recalling its resolutions 1267 (1999), 1333 (2000), 1363 (2001), 1373 (2001), 1390 (2002), 1452 (2002), 1455 (2003), 1526 (2004), 1566 (2004), 1617 (2005), 1624 (2005), 1699 (2006), 1730 (2006), 1735 (2006), and 1822 (2008), and the relevant statements of its President,\tссылаясь на свои резолюции 1267 (1999), 1333 (2000), 1363 (2001), 1373 (2001), 1390 (2002), 1452 (2002), 1455 (2003), 1526 (2004), 1566 (2004), 1617 (2005), 1624 (2005), 1699 (2006), 1730 (2006), 1735 (2006) и 1822 (2008) и на соответствующие заявления своего Председателя,\r\n"
     ]
    }
   ],
   "source": [
    "!sed -n -e '28134{p;q;}' /Users/alexskrn/Documents/NLP/WordAlign/wordalign_notebooks/data/en_ru_sort_uniq"
   ]
  },
  {
   "cell_type": "code",
   "execution_count": 20,
   "metadata": {},
   "outputs": [
    {
     "data": {
      "text/plain": [
       "0.7826023391812865"
      ]
     },
     "execution_count": 20,
     "metadata": {},
     "output_type": "execute_result"
    }
   ],
   "source": [
    "# SRC and TRG are very similar\n",
    "str1 = \"95-37553 (E) 281195\"\n",
    "str2 = \"95-37555.R 281195 281195\"\n",
    "jaro_similarity(str1, str2)"
   ]
  },
  {
   "cell_type": "code",
   "execution_count": 21,
   "metadata": {},
   "outputs": [
    {
     "data": {
      "text/plain": [
       "0.36842105263157887"
      ]
     },
     "execution_count": 21,
     "metadata": {},
     "output_type": "execute_result"
    }
   ],
   "source": [
    "# SRC and TRG are not similar\n",
    "str1 = \"\"\"Гуманитарный призыв\"\"\"\n",
    "str2 = \"\"\"Humanitarian appeal\"\"\"\n",
    "jaro_similarity(str1, str2)"
   ]
  },
  {
   "cell_type": "code",
   "execution_count": 23,
   "metadata": {},
   "outputs": [
    {
     "name": "stdout",
     "output_type": "stream",
     "text": [
      "28972\n",
      "   28972 /Users/alexskrn/Documents/NLP/WordAlign/wordalign_notebooks/data/sim_scores.txt\n",
      "   28972 /Users/alexskrn/Documents/NLP/WordAlign/wordalign_notebooks/data/en_ru_sort_uniq_remsim\n"
     ]
    }
   ],
   "source": [
    "# Count all similarity scores - takes long - wait !\n",
    "jaro_simil_scores_list = []\n",
    "with open(PROC_DATA_PREFIX + '/' + 'en_ru_sort_uniq_remsim', 'r', encoding='utf8') as inF, \\\n",
    "     open(PROC_DATA_PREFIX + '/' + 'sim_scores.txt', 'w', encoding='utf8') as toF:\n",
    "    for line in inF:\n",
    "        line_list = line.split('\\t')\n",
    "        src_str, trg_str = line_list[0].strip(), line_list[1].strip()\n",
    "        sim_score = jaro_similarity(src_str, trg_str)\n",
    "        jaro_simil_scores_list.append(sim_score)\n",
    "        toF.write('{}\\n'.format(sim_score))\n",
    "\n",
    "print(len(jaro_simil_scores_list))\n",
    "!wc -l {PROC_DATA_PREFIX}/sim_scores.txt\n",
    "!wc -l {PROC_DATA_PREFIX}/en_ru_sort_uniq_remsim"
   ]
  },
  {
   "cell_type": "code",
   "execution_count": 25,
   "metadata": {},
   "outputs": [
    {
     "name": "stdout",
     "output_type": "stream",
     "text": [
      "   25971 /Users/alexskrn/Documents/NLP/WordAlign/wordalign_notebooks/data/en_ru_sort_uniq_remsim_jaro\r\n"
     ]
    }
   ],
   "source": [
    "# Keep lines where SRC and TRG are very distinct\n",
    "threshold = 0.45\n",
    "with open(PROC_DATA_PREFIX + '/' + 'en_ru_sort_uniq_remsim', 'r', encoding='utf8') as inF_text, \\\n",
    "    open(PROC_DATA_PREFIX + '/' + 'en_ru_sort_uniq_remsim_jaro', 'w', encoding='utf8') as toF_text:\n",
    "    for i, line in enumerate(inF_text):\n",
    "        if jaro_simil_scores_list[i] < threshold:  # If SRC and TRG are not too simialr, keep the line\n",
    "            toF_text.write(line)\n",
    "\n",
    "!wc -l {PROC_DATA_PREFIX}/'en_ru_sort_uniq_remsim_jaro'"
   ]
  },
  {
   "cell_type": "markdown",
   "metadata": {},
   "source": [
    "### (5) Word tokenize (+ remove punct, digits, stop words) "
   ]
  },
  {
   "cell_type": "code",
   "execution_count": 1,
   "metadata": {},
   "outputs": [],
   "source": [
    "import string\n",
    "import nltk\n",
    "\n",
    "stopwords = ['the', 'a', 'an', 'of',\n",
    "#              's', 'and', 'и', 'or', 'или',   # Inclusion of these into stop words \n",
    "#              'been', 'being', 'by'           # causes word alignment to deteriorate\n",
    "            ]\n",
    "\n",
    "def preprocess(text):\n",
    "    \"\"\"Return a string cleaned up.\"\"\"\n",
    "    text = text.lower()  # lowercase\n",
    "    # word-tokenize & remove numbers if the entire token consists of numbers\n",
    "    text = ' '.join(t for t in nltk.wordpunct_tokenize(text) if not t.isdigit() and not t in stopwords)\n",
    "    # remove punctuation\n",
    "    punct_remove = set(string.punctuation) | {'−', '\\t', '\\n', '\\r', '\\x0b', '\\x0c', '◦', '°'}\n",
    "    text = ''.join(char for char in text if char not in punct_remove)\n",
    "    # strip extra whitespaces\n",
    "    text = ' '.join(text.split())\n",
    "    return text"
   ]
  },
  {
   "cell_type": "code",
   "execution_count": 27,
   "metadata": {},
   "outputs": [
    {
     "data": {
      "text/plain": [
       "'participation as partner in international facility in russia to provide enrichment services for reliable supply fuel to iran s nuclear reactors'"
      ]
     },
     "execution_count": 27,
     "metadata": {},
     "output_type": "execute_result"
    }
   ],
   "source": [
    "# check if it works as expected\n",
    "# text = \"\"\"!\"#$%&'()*+,-−./:;<=>?@[\\]^_`{|}~\"\"\"\n",
    "text = \"◦ The Participation as a partner in an the international facility in Russia to provide enrichment services for a reliable supply of fuel to Iran's nuclear reactors.\"\n",
    "preprocess(text)"
   ]
  },
  {
   "cell_type": "code",
   "execution_count": 28,
   "metadata": {},
   "outputs": [],
   "source": [
    "# Word tokenize and clean up - from now on I have two files - raw text and tokenized text\n",
    "with open(PROC_DATA_PREFIX + '/' + 'en_ru_sort_uniq_remsim_jaro', 'r', encoding='utf8') as inF, \\\n",
    "     open(PROC_DATA_PREFIX + '/' + 'en_ru_sort_uniq_remsim_jaro_tok', 'w', encoding='utf8') as toF:\n",
    "    for line in inF:\n",
    "        line_list = line.split('\\t')\n",
    "        src_str, trg_str = line_list[0].strip(), line_list[1].strip()\n",
    "        toF.write('{}\\t{}\\n'.format(preprocess(src_str), preprocess(trg_str)))"
   ]
  },
  {
   "cell_type": "code",
   "execution_count": 29,
   "metadata": {},
   "outputs": [
    {
     "name": "stdout",
     "output_type": "stream",
     "text": [
      "   25971 /Users/alexskrn/Documents/NLP/WordAlign/wordalign_notebooks/data/en_ru_sort_uniq_remsim_jaro\n",
      "   25971 /Users/alexskrn/Documents/NLP/WordAlign/wordalign_notebooks/data/en_ru_sort_uniq_remsim_jaro_tok\n"
     ]
    }
   ],
   "source": [
    "!wc -l {PROC_DATA_PREFIX}/'en_ru_sort_uniq_remsim_jaro'\n",
    "!wc -l {PROC_DATA_PREFIX}/'en_ru_sort_uniq_remsim_jaro_tok'"
   ]
  },
  {
   "cell_type": "code",
   "execution_count": 30,
   "metadata": {},
   "outputs": [
    {
     "name": "stdout",
     "output_type": "stream",
     "text": [
      "BEFORE\n",
      "\n",
      "− Antoine Kesia-Mbe Mindua (Democratic Republic of Congo)\t- Антуан Кесия-Мбе Миндуа (Демократическая Республика Конго)\n",
      "− Howard Morrison (United Kingdom)\t- Говард Моррисон (Соединенное Королевство)\n",
      "◦ Development with IAEA of a standing multilateral mechanism for reliable access to nuclear fuel, based on ideas to be considered at the next meeting of the Board of Governors.\t:: создания совместно с МАГАТЭ постоянного многостороннего механизма надежного обеспечения доступа к ядерному топливу на основе идей, которые будут рассмотрены на следующем заседании Совета управляющих.\n",
      "◦ Establishment on commercial terms of a buffer stock to hold a reserve of up to five years' supply of nuclear fuel dedicated to Iran, with the participation and under supervision of IAEA.\t:: создания на коммерческих началах резервных запасов предназначенного для Ирана ядерного топлива, рассчитанных на пять лет, при участии и под контролем МАГАТЭ;\n",
      "\n",
      "AFTER\n",
      "\n",
      "antoine kesia mbe mindua democratic republic congo\tантуан кесия мбе миндуа демократическая республика конго\n",
      "howard morrison united kingdom\tговард моррисон соединенное королевство\n",
      "development with iaea standing multilateral mechanism for reliable access to nuclear fuel based on ideas to be considered at next meeting board governors\tсоздания совместно с магатэ постоянного многостороннего механизма надежного обеспечения доступа к ядерному топливу на основе идей которые будут рассмотрены на следующем заседании совета управляющих\n",
      "establishment on commercial terms buffer stock to hold reserve up to five years supply nuclear fuel dedicated to iran with participation and under supervision iaea\tсоздания на коммерческих началах резервных запасов предназначенного для ирана ядерного топлива рассчитанных на пять лет при участии и под контролем магатэ\n"
     ]
    }
   ],
   "source": [
    "print('BEFORE\\n')\n",
    "!head -2 {PROC_DATA_PREFIX}/'en_ru_sort_uniq_remsim_jaro'\n",
    "!tail -2 {PROC_DATA_PREFIX}/'en_ru_sort_uniq_remsim_jaro'\n",
    "print('\\nAFTER\\n')\n",
    "!head -2 {PROC_DATA_PREFIX}/'en_ru_sort_uniq_remsim_jaro_tok'\n",
    "!tail -2 {PROC_DATA_PREFIX}/'en_ru_sort_uniq_remsim_jaro_tok'"
   ]
  },
  {
   "cell_type": "markdown",
   "metadata": {},
   "source": [
    "### (6)(1) Remove outliers (where diff in sentence length between SRC and TRG is too large)"
   ]
  },
  {
   "cell_type": "code",
   "execution_count": 31,
   "metadata": {},
   "outputs": [],
   "source": [
    "# Count sentence lengths\n",
    "def count_sent_len(data_prefix, file_in, file_out):\n",
    "    \"\"\"Count sentence length in tab-delim file_in and write counts to file_out.\"\"\"\n",
    "    with open(data_prefix + '/' + file_in, 'r', encoding='utf8') as inF, \\\n",
    "        open(data_prefix + '/' + file_out, 'w', encoding='utf8') as toF_nums:\n",
    "        for line in inF:\n",
    "            line_list = line.split('\\t')\n",
    "            src_str, trg_str = line_list[0].strip(), line_list[1].strip()\n",
    "            src_len, trg_len = len(src_str.split()), len(trg_str.split())\n",
    "            toF_nums.write('{}\\t{}\\n'.format(src_len, trg_len))"
   ]
  },
  {
   "cell_type": "code",
   "execution_count": 32,
   "metadata": {},
   "outputs": [],
   "source": [
    "count_sent_len(PROC_DATA_PREFIX, 'en_ru_sort_uniq_remsim_jaro_tok', 'sent_lengths.txt')"
   ]
  },
  {
   "cell_type": "code",
   "execution_count": 33,
   "metadata": {
    "scrolled": true
   },
   "outputs": [
    {
     "name": "stdout",
     "output_type": "stream",
     "text": [
      "   25971 /Users/alexskrn/Documents/NLP/WordAlign/wordalign_notebooks/data/en_ru_sort_uniq_remsim_jaro_tok\n",
      "   25971 /Users/alexskrn/Documents/NLP/WordAlign/wordalign_notebooks/data/sent_lengths.txt\n",
      "7\t7\n",
      "4\t4\n",
      "4\t4\n"
     ]
    }
   ],
   "source": [
    "!wc -l {PROC_DATA_PREFIX}/'en_ru_sort_uniq_remsim_jaro_tok'\n",
    "!wc -l {PROC_DATA_PREFIX}/'sent_lengths.txt'\n",
    "!head -3 {PROC_DATA_PREFIX}/'sent_lengths.txt'"
   ]
  },
  {
   "cell_type": "code",
   "execution_count": 34,
   "metadata": {},
   "outputs": [],
   "source": [
    "import matplotlib.pyplot as plt\n",
    "import pandas as pd\n",
    "import numpy as np\n",
    "\n",
    "my_data = pd.read_csv(PROC_DATA_PREFIX + '/' + 'sent_lengths.txt', sep='\\t', header=None)\n",
    "my_data.columns = ['src_len', 'trg_len']"
   ]
  },
  {
   "cell_type": "code",
   "execution_count": 35,
   "metadata": {
    "scrolled": true
   },
   "outputs": [
    {
     "data": {
      "text/html": [
       "<div>\n",
       "<style scoped>\n",
       "    .dataframe tbody tr th:only-of-type {\n",
       "        vertical-align: middle;\n",
       "    }\n",
       "\n",
       "    .dataframe tbody tr th {\n",
       "        vertical-align: top;\n",
       "    }\n",
       "\n",
       "    .dataframe thead th {\n",
       "        text-align: right;\n",
       "    }\n",
       "</style>\n",
       "<table border=\"1\" class=\"dataframe\">\n",
       "  <thead>\n",
       "    <tr style=\"text-align: right;\">\n",
       "      <th></th>\n",
       "      <th>src_len</th>\n",
       "      <th>trg_len</th>\n",
       "      <th>diff</th>\n",
       "    </tr>\n",
       "  </thead>\n",
       "  <tbody>\n",
       "    <tr>\n",
       "      <td>0</td>\n",
       "      <td>7</td>\n",
       "      <td>7</td>\n",
       "      <td>0</td>\n",
       "    </tr>\n",
       "    <tr>\n",
       "      <td>1</td>\n",
       "      <td>4</td>\n",
       "      <td>4</td>\n",
       "      <td>0</td>\n",
       "    </tr>\n",
       "    <tr>\n",
       "      <td>2</td>\n",
       "      <td>4</td>\n",
       "      <td>4</td>\n",
       "      <td>0</td>\n",
       "    </tr>\n",
       "    <tr>\n",
       "      <td>3</td>\n",
       "      <td>5</td>\n",
       "      <td>5</td>\n",
       "      <td>0</td>\n",
       "    </tr>\n",
       "    <tr>\n",
       "      <td>4</td>\n",
       "      <td>5</td>\n",
       "      <td>5</td>\n",
       "      <td>0</td>\n",
       "    </tr>\n",
       "  </tbody>\n",
       "</table>\n",
       "</div>"
      ],
      "text/plain": [
       "   src_len  trg_len  diff\n",
       "0        7        7     0\n",
       "1        4        4     0\n",
       "2        4        4     0\n",
       "3        5        5     0\n",
       "4        5        5     0"
      ]
     },
     "execution_count": 35,
     "metadata": {},
     "output_type": "execute_result"
    }
   ],
   "source": [
    "my_data['diff'] = my_data.loc[:, 'src_len'] - my_data.loc[:, 'trg_len']\n",
    "my_data.head()"
   ]
  },
  {
   "cell_type": "code",
   "execution_count": 36,
   "metadata": {},
   "outputs": [
    {
     "data": {
      "text/html": [
       "<div>\n",
       "<style scoped>\n",
       "    .dataframe tbody tr th:only-of-type {\n",
       "        vertical-align: middle;\n",
       "    }\n",
       "\n",
       "    .dataframe tbody tr th {\n",
       "        vertical-align: top;\n",
       "    }\n",
       "\n",
       "    .dataframe thead th {\n",
       "        text-align: right;\n",
       "    }\n",
       "</style>\n",
       "<table border=\"1\" class=\"dataframe\">\n",
       "  <thead>\n",
       "    <tr style=\"text-align: right;\">\n",
       "      <th></th>\n",
       "      <th>src_len</th>\n",
       "      <th>trg_len</th>\n",
       "      <th>diff</th>\n",
       "    </tr>\n",
       "  </thead>\n",
       "  <tbody>\n",
       "    <tr>\n",
       "      <td>25966</td>\n",
       "      <td>39</td>\n",
       "      <td>38</td>\n",
       "      <td>1</td>\n",
       "    </tr>\n",
       "    <tr>\n",
       "      <td>25967</td>\n",
       "      <td>29</td>\n",
       "      <td>34</td>\n",
       "      <td>-5</td>\n",
       "    </tr>\n",
       "    <tr>\n",
       "      <td>25968</td>\n",
       "      <td>3</td>\n",
       "      <td>3</td>\n",
       "      <td>0</td>\n",
       "    </tr>\n",
       "    <tr>\n",
       "      <td>25969</td>\n",
       "      <td>23</td>\n",
       "      <td>24</td>\n",
       "      <td>-1</td>\n",
       "    </tr>\n",
       "    <tr>\n",
       "      <td>25970</td>\n",
       "      <td>25</td>\n",
       "      <td>21</td>\n",
       "      <td>4</td>\n",
       "    </tr>\n",
       "  </tbody>\n",
       "</table>\n",
       "</div>"
      ],
      "text/plain": [
       "       src_len  trg_len  diff\n",
       "25966       39       38     1\n",
       "25967       29       34    -5\n",
       "25968        3        3     0\n",
       "25969       23       24    -1\n",
       "25970       25       21     4"
      ]
     },
     "execution_count": 36,
     "metadata": {},
     "output_type": "execute_result"
    }
   ],
   "source": [
    "my_data.tail()"
   ]
  },
  {
   "cell_type": "code",
   "execution_count": 39,
   "metadata": {},
   "outputs": [
    {
     "name": "stdout",
     "output_type": "stream",
     "text": [
      "Mean difference and standard deviation of the difference in length between SRC and TRG senteces:\n",
      "-2.3534326749066268 4.74472866424436\n"
     ]
    }
   ],
   "source": [
    "# Calculate the mean difference and standard deviation of the difference in length\n",
    "diff_mean = np.mean(my_data.loc[:, \"diff\"])\n",
    "diff_std = np.std(my_data.loc[:, \"diff\"])\n",
    "print('Mean difference and standard deviation of the difference in length between SRC and TRG senteces:')\n",
    "print(diff_mean, diff_std)"
   ]
  },
  {
   "cell_type": "code",
   "execution_count": 40,
   "metadata": {
    "scrolled": true
   },
   "outputs": [
    {
     "data": {
      "image/png": "[encoded data removed]",
      "text/plain": [
       "<Figure size 432x288 with 1 Axes>"
      ]
     },
     "metadata": {
      "needs_background": "light"
     },
     "output_type": "display_data"
    }
   ],
   "source": [
    "# Plot the differences\n",
    "plt.hist(my_data.loc[:, \"diff\"])\n",
    "plt.title('Plot of the difference in length between SRC and TRG sentences')\n",
    "plt.xlabel(\"difference in length between source and target sentences\")\n",
    "plt.ylabel(\"frequency\\n(i.e. how often such difference can be seen)\")\n",
    "plt.show()"
   ]
  },
  {
   "cell_type": "code",
   "execution_count": null,
   "metadata": {},
   "outputs": [],
   "source": [
    "# The above shows that Russian translations are usually longer than the English sources"
   ]
  },
  {
   "cell_type": "code",
   "execution_count": 41,
   "metadata": {},
   "outputs": [
    {
     "name": "stdout",
     "output_type": "stream",
     "text": [
      "-11.842890003395347 7.136024653582094\n"
     ]
    }
   ],
   "source": [
    "# Maximum number of standard deviations allowed in the difference \n",
    "# in length between the source and target sentences\n",
    "std = 2\n",
    "limit_hi = diff_mean + std * diff_std\n",
    "limit_lo = diff_mean - std * diff_std\n",
    "print(limit_lo, limit_hi)"
   ]
  },
  {
   "cell_type": "code",
   "execution_count": 42,
   "metadata": {},
   "outputs": [
    {
     "name": "stdout",
     "output_type": "stream",
     "text": [
      "    1238 /Users/alexskrn/Documents/NLP/WordAlign/wordalign_notebooks/data/outliers_at_2_std.txt\n",
      "security council encourages all ecowas states especially those most affected by illicit trade in small arms and light weapons to submit as did other states national reports on actions undertaken to implement united nations programme action for small arms and light weapons to secretary general in advance biennial review meeting\tсовет безопасности побуждает все государства эковас особенно те из них которые в наибольшей мере затрагивает незаконная торговля стрелковым оружием и легкими вооружениями представить генеральному секретарю как это сделали другие государства национальные доклады о принятых ими мерах по осуществлению программы действий организации объединенных наций по стрелковому оружию и легким вооружениям до начала проводимого раз в два года совещания по рассмотрению действия которое состоится в году\n",
      "c l0 corrosion resistant multiple seal canned drive magnetic drive bellows or diaphragm pumps or progressive cavity tubing pumps including peristaltic or roller pumps in which only elastometric tubing is corrosion resistant with manufacturer s specified maximum flow rate m3 per minute or greater under standard temperature k and standard pressure kp conditions\tc коррозиеустойчивые насосы мощностью м3 в минуту или более при стандартной температуре 293ºk и стандартном давлении kpa включая многокамерные герметизированные магнитные насосы и насосы работающие по принципу выдавливания или прогрессивного увеличения объема например перистальтические или ротационные насосы в которых эластометрические трубки являются единственными коррозиеустойчивыми элементами\n",
      "as immediate priority ensure transition to democracy including through promoting facilitating and providing technical advice and assistance to single inclusive and transparent national dialogue to libyan electoral processes and to process preparing drafting and adopting new libyan constitution promoting empowerment and political participation all parts libyan society in particular women youth and minorities and through provision good offices to support inclusive libyan political settlement and to promote political environment for integration ex combatants into libyan national security forces or their demobilization and reintegration into civilian life\tобеспечение в качестве первоочередной задачи перехода к демократии в том числе путем поощрения и облегчения проведения общенационального и транспарентного диалога с участием всех слоев общества осуществления избирательных процессов в ливии и подготовки составления проекта и принятия новой конституции ливии а также оказания в этой связи технической консультационной и иной помощи поощрения расширения прав и возможностей и политического участия всех слоев ливийского общества в частности женщин молодежи и меньшинств и путем предоставления добрых услуг для поддержки всеохватного политического урегулирования в ливии и содействия созданию благоприятных политических условий для включения бывших комбатантов в состав национальных сил безопасности ливии или их демобилизации и вовлечения в гражданскую жизнь\n"
     ]
    }
   ],
   "source": [
    "# Inspect sentences regarded as outliers by the above standard \n",
    "with open(PROC_DATA_PREFIX + '/' + 'en_ru_sort_uniq_remsim_jaro_tok', 'r', encoding='utf8') as inF, \\\n",
    "     open(PROC_DATA_PREFIX + '/' + 'outliers_at_2_std.txt', 'w', encoding='utf8') as toF:\n",
    "    for idx, line in enumerate(inF):\n",
    "        if (my_data.loc[:, \"diff\"][idx] > limit_hi) or (my_data.loc[:, \"diff\"][idx] < limit_lo):\n",
    "            toF.write(line)  # write sentences where difference in length is outside of above limits\n",
    "\n",
    "!wc -l {PROC_DATA_PREFIX}/'outliers_at_2_std.txt'\n",
    "!head -3 {PROC_DATA_PREFIX}/'outliers_at_2_std.txt'"
   ]
  },
  {
   "cell_type": "code",
   "execution_count": 43,
   "metadata": {},
   "outputs": [
    {
     "name": "stdout",
     "output_type": "stream",
     "text": [
      "   25971 /Users/alexskrn/Documents/NLP/WordAlign/wordalign_notebooks/data/en_ru_sort_uniq_remsim_jaro_tok\n",
      "   24733 /Users/alexskrn/Documents/NLP/WordAlign/wordalign_notebooks/data/en_ru_sort_uniq_remsim_jaro_tok_2std\n"
     ]
    }
   ],
   "source": [
    "# remove outliers from raw text & tokenized text files\n",
    "# tokenized file first\n",
    "with open(PROC_DATA_PREFIX + '/' + 'en_ru_sort_uniq_remsim_jaro_tok', 'r', encoding='utf8') as inF, \\\n",
    "     open(PROC_DATA_PREFIX + '/' + 'en_ru_sort_uniq_remsim_jaro_tok_2std', 'w', encoding='utf8') as toF:\n",
    "    for idx, line in enumerate(inF):\n",
    "        if (my_data.loc[:, \"diff\"][idx] < limit_hi) and (my_data.loc[:, \"diff\"][idx] > limit_lo):\n",
    "            toF.write(line)  # keep line if difference is within above limits\n",
    "            \n",
    "!wc -l {PROC_DATA_PREFIX}/'en_ru_sort_uniq_remsim_jaro_tok'\n",
    "!wc -l {PROC_DATA_PREFIX}/'en_ru_sort_uniq_remsim_jaro_tok_2std'"
   ]
  },
  {
   "cell_type": "code",
   "execution_count": 44,
   "metadata": {},
   "outputs": [
    {
     "name": "stdout",
     "output_type": "stream",
     "text": [
      "   25971 /Users/alexskrn/Documents/NLP/WordAlign/wordalign_notebooks/data/en_ru_sort_uniq_remsim_jaro\n",
      "   24733 /Users/alexskrn/Documents/NLP/WordAlign/wordalign_notebooks/data/en_ru_sort_uniq_remsim_jaro_2std\n"
     ]
    }
   ],
   "source": [
    "# remove outliers from raw text & tokenized text files\n",
    "# raw text next\n",
    "with open(PROC_DATA_PREFIX + '/' + 'en_ru_sort_uniq_remsim_jaro', 'r', encoding='utf8') as inF, \\\n",
    "     open(PROC_DATA_PREFIX + '/' + 'en_ru_sort_uniq_remsim_jaro_2std', 'w', encoding='utf8') as toF:\n",
    "    for idx, line in enumerate(inF):\n",
    "        if (my_data.loc[:, \"diff\"][idx] < limit_hi) and (my_data.loc[:, \"diff\"][idx] > limit_lo):\n",
    "            toF.write(line)  # keep line if difference is within above limits\n",
    "            \n",
    "!wc -l {PROC_DATA_PREFIX}/'en_ru_sort_uniq_remsim_jaro'\n",
    "!wc -l {PROC_DATA_PREFIX}/'en_ru_sort_uniq_remsim_jaro_2std'"
   ]
  },
  {
   "cell_type": "markdown",
   "metadata": {},
   "source": [
    "### (6)(2) Remove too long sentences"
   ]
  },
  {
   "cell_type": "code",
   "execution_count": 45,
   "metadata": {
    "scrolled": true
   },
   "outputs": [
    {
     "name": "stdout",
     "output_type": "stream",
     "text": [
      "(25971, 2)\n"
     ]
    },
    {
     "data": {
      "text/html": [
       "<div>\n",
       "<style scoped>\n",
       "    .dataframe tbody tr th:only-of-type {\n",
       "        vertical-align: middle;\n",
       "    }\n",
       "\n",
       "    .dataframe tbody tr th {\n",
       "        vertical-align: top;\n",
       "    }\n",
       "\n",
       "    .dataframe thead th {\n",
       "        text-align: right;\n",
       "    }\n",
       "</style>\n",
       "<table border=\"1\" class=\"dataframe\">\n",
       "  <thead>\n",
       "    <tr style=\"text-align: right;\">\n",
       "      <th></th>\n",
       "      <th>src_len</th>\n",
       "      <th>trg_len</th>\n",
       "    </tr>\n",
       "  </thead>\n",
       "  <tbody>\n",
       "    <tr>\n",
       "      <td>0</td>\n",
       "      <td>7</td>\n",
       "      <td>7</td>\n",
       "    </tr>\n",
       "    <tr>\n",
       "      <td>1</td>\n",
       "      <td>4</td>\n",
       "      <td>4</td>\n",
       "    </tr>\n",
       "    <tr>\n",
       "      <td>2</td>\n",
       "      <td>4</td>\n",
       "      <td>4</td>\n",
       "    </tr>\n",
       "    <tr>\n",
       "      <td>3</td>\n",
       "      <td>5</td>\n",
       "      <td>5</td>\n",
       "    </tr>\n",
       "    <tr>\n",
       "      <td>4</td>\n",
       "      <td>5</td>\n",
       "      <td>5</td>\n",
       "    </tr>\n",
       "  </tbody>\n",
       "</table>\n",
       "</div>"
      ],
      "text/plain": [
       "   src_len  trg_len\n",
       "0        7        7\n",
       "1        4        4\n",
       "2        4        4\n",
       "3        5        5\n",
       "4        5        5"
      ]
     },
     "execution_count": 45,
     "metadata": {},
     "output_type": "execute_result"
    }
   ],
   "source": [
    "import pandas as pd\n",
    "\n",
    "counts_data = pd.read_csv(PROC_DATA_PREFIX + '/' + 'sent_lengths.txt', sep='\\t', header=None)\n",
    "counts_data.columns = ['src_len', 'trg_len']\n",
    "print(counts_data.shape)\n",
    "counts_data.head()"
   ]
  },
  {
   "cell_type": "code",
   "execution_count": 46,
   "metadata": {},
   "outputs": [],
   "source": [
    "# Remove too long sentences\n",
    "# Raw file first -- This file is to go into Database\n",
    "threshold = 40\n",
    "with open(PROC_DATA_PREFIX + '/' + 'en_ru_sort_uniq_remsim_jaro_2std', 'r', encoding='utf8') as inF, \\\n",
    "     open(PROC_DATA_PREFIX + '/' + 'en_ru_sort_uniq_remsim_jaro_2std_40', 'w', encoding='utf8') as toF:\n",
    "    for idx, line in enumerate(inF):\n",
    "        if (counts_data.loc[:, 'src_len'][idx] < threshold) and (counts_data.loc[:, 'trg_len'][idx] < threshold):\n",
    "            toF.write(line)  # keep lines which are less than 40 words long"
   ]
  },
  {
   "cell_type": "code",
   "execution_count": 48,
   "metadata": {
    "scrolled": true
   },
   "outputs": [
    {
     "name": "stdout",
     "output_type": "stream",
     "text": [
      "   24733 /Users/alexskrn/Documents/NLP/WordAlign/wordalign_notebooks/data/en_ru_sort_uniq_remsim_jaro_2std\n",
      "   14561 /Users/alexskrn/Documents/NLP/WordAlign/wordalign_notebooks/data/en_ru_sort_uniq_remsim_jaro_2std_40\n"
     ]
    }
   ],
   "source": [
    "!wc -l {PROC_DATA_PREFIX}/'en_ru_sort_uniq_remsim_jaro_2std'\n",
    "!wc -l {PROC_DATA_PREFIX}/'en_ru_sort_uniq_remsim_jaro_2std_40'"
   ]
  },
  {
   "cell_type": "code",
   "execution_count": 49,
   "metadata": {},
   "outputs": [
    {
     "name": "stdout",
     "output_type": "stream",
     "text": [
      "   24733 /Users/alexskrn/Documents/NLP/WordAlign/wordalign_notebooks/data/en_ru_sort_uniq_remsim_jaro_tok_2std\n",
      "   14561 /Users/alexskrn/Documents/NLP/WordAlign/wordalign_notebooks/data/en_ru_sort_uniq_remsim_jaro_tok_2std_40\n"
     ]
    }
   ],
   "source": [
    "# Remove too long sentences\n",
    "# Tok file -- This file is be used for Word Alignment\n",
    "threshold = 40\n",
    "with open(PROC_DATA_PREFIX + '/' + 'en_ru_sort_uniq_remsim_jaro_tok_2std', 'r', encoding='utf8') as inF, \\\n",
    "     open(PROC_DATA_PREFIX + '/' + 'en_ru_sort_uniq_remsim_jaro_tok_2std_40', 'w', encoding='utf8') as toF:\n",
    "    for idx, line in enumerate(inF):\n",
    "        if (counts_data.loc[:, 'src_len'][idx] < threshold) and (counts_data.loc[:, 'trg_len'][idx] < threshold):\n",
    "            toF.write(line)  # keep lines which are less than 40 words long\n",
    "\n",
    "!wc -l {PROC_DATA_PREFIX}/'en_ru_sort_uniq_remsim_jaro_tok_2std'\n",
    "!wc -l {PROC_DATA_PREFIX}/'en_ru_sort_uniq_remsim_jaro_tok_2std_40'"
   ]
  },
  {
   "cell_type": "markdown",
   "metadata": {},
   "source": [
    "## PART II\n",
    "\n",
    "### (1) Word align"
   ]
  },
  {
   "cell_type": "code",
   "execution_count": 83,
   "metadata": {},
   "outputs": [],
   "source": [
    "# Put SRC sentences and TRG sentences into lists of lists\n",
    "corpus_en = []\n",
    "corpus_ru = []\n",
    "with open(PROC_DATA_PREFIX + '/' + 'en_ru_sort_uniq_remsim_jaro_tok_2std_40', 'r', encoding='utf8') as inF:\n",
    "    for line in inF:\n",
    "        line_list = line.split('\\t')\n",
    "        src_str, trg_str = line_list[0].strip(), line_list[1].strip()\n",
    "        corpus_en.append(src_str.split())\n",
    "        corpus_ru.append(trg_str.split())"
   ]
  },
  {
   "cell_type": "code",
   "execution_count": 84,
   "metadata": {},
   "outputs": [
    {
     "name": "stdout",
     "output_type": "stream",
     "text": [
      "[['antoine', 'kesia', 'mbe', 'mindua', 'democratic', 'republic', 'congo'], ['howard', 'morrison', 'united', 'kingdom']]\n",
      "[['антуан', 'кесия', 'мбе', 'миндуа', 'демократическая', 'республика', 'конго'], ['говард', 'моррисон', 'соединенное', 'королевство']]\n"
     ]
    }
   ],
   "source": [
    "print(corpus_en[:2])\n",
    "print(corpus_ru[:2])"
   ]
  },
  {
   "cell_type": "code",
   "execution_count": 85,
   "metadata": {},
   "outputs": [],
   "source": [
    "assert len(corpus_en) == len(corpus_ru)"
   ]
  },
  {
   "cell_type": "code",
   "execution_count": 86,
   "metadata": {},
   "outputs": [],
   "source": [
    "import nltk\n",
    "from nltk.translate.api import AlignedSent\n",
    "# from nltk.translate.ibm3 import IBMModel3  # takes forever to run, models 4 & 5 require an unclear PoS dict\n",
    "from nltk.translate.ibm2 import IBMModel2"
   ]
  },
  {
   "cell_type": "code",
   "execution_count": 87,
   "metadata": {},
   "outputs": [],
   "source": [
    "bitext = []\n",
    "for en, ru in zip(corpus_en, corpus_ru):\n",
    "    bitext.append(AlignedSent(en, ru))"
   ]
  },
  {
   "cell_type": "code",
   "execution_count": 88,
   "metadata": {},
   "outputs": [
    {
     "data": {
      "text/plain": [
       "[AlignedSent(['antoine', 'kesia', 'mbe', 'mindua', 'democratic', 'republic', 'congo'], ['антуан', 'кесия', 'мбе', 'миндуа', 'демократическая', 'республика', 'конго'], Alignment([])),\n",
       " AlignedSent(['howard', 'morrison', 'united', 'kingdom'], ['говард', 'моррисон', 'соединенное', 'королевство'], Alignment([]))]"
      ]
     },
     "execution_count": 88,
     "metadata": {},
     "output_type": "execute_result"
    }
   ],
   "source": [
    "# Before alignment\n",
    "bitext[:2]"
   ]
  },
  {
   "cell_type": "code",
   "execution_count": 89,
   "metadata": {},
   "outputs": [],
   "source": [
    "# Calculate alignments\n",
    "ibm2 = IBMModel2(bitext, 10)"
   ]
  },
  {
   "cell_type": "code",
   "execution_count": 90,
   "metadata": {
    "scrolled": false
   },
   "outputs": [
    {
     "data": {
      "text/plain": [
       "[AlignedSent(['antoine', 'kesia', 'mbe', 'mindua', 'democratic', 'republic', 'congo'], ['антуан', 'кесия', 'мбе', 'миндуа', 'демократическая', 'республика', 'конго'], Alignment([(0, 0), (1, 1), (2, 2), (3, 3), (4, 4), (5, 5), (6, 6)])),\n",
       " AlignedSent(['howard', 'morrison', 'united', 'kingdom'], ['говард', 'моррисон', 'соединенное', 'королевство'], Alignment([(0, 0), (1, 1), (2, 2), (3, 3)]))]"
      ]
     },
     "execution_count": 90,
     "metadata": {},
     "output_type": "execute_result"
    }
   ],
   "source": [
    "# AlignedSent objects after alignment\n",
    "bitext[:2]"
   ]
  },
  {
   "cell_type": "code",
   "execution_count": 91,
   "metadata": {
    "scrolled": true
   },
   "outputs": [
    {
     "name": "stdout",
     "output_type": "stream",
     "text": [
      "{'_words': ['antoine', 'kesia', 'mbe', 'mindua', 'democratic', 'republic', 'congo'], '_mots': ['антуан', 'кесия', 'мбе', 'миндуа', 'демократическая', 'республика', 'конго'], '_alignment': Alignment([(0, 0), (1, 1), (2, 2), (3, 3), (4, 4), (5, 5), (6, 6)])}\n"
     ]
    }
   ],
   "source": [
    "print(vars(bitext[0]))"
   ]
  },
  {
   "cell_type": "code",
   "execution_count": 92,
   "metadata": {
    "scrolled": false
   },
   "outputs": [
    {
     "name": "stdout",
     "output_type": "stream",
     "text": [
      "['antoine', 'kesia', 'mbe', 'mindua', 'democratic', 'republic', 'congo']\n",
      "['антуан', 'кесия', 'мбе', 'миндуа', 'демократическая', 'республика', 'конго']\n",
      "0-0 1-1 2-2 3-3 4-4 5-5 6-6\n"
     ]
    },
    {
     "data": {
      "text/plain": [
       "Alignment([(0, 0), (1, 1), (2, 2), (3, 3), (4, 4), (5, 5), (6, 6)])"
      ]
     },
     "execution_count": 92,
     "metadata": {},
     "output_type": "execute_result"
    }
   ],
   "source": [
    "# Example alignments\n",
    "print(bitext[0]._words)\n",
    "print(bitext[0]._mots)\n",
    "print(bitext[0]._alignment)\n",
    "bitext[0]._alignment"
   ]
  },
  {
   "cell_type": "code",
   "execution_count": 93,
   "metadata": {},
   "outputs": [
    {
     "data": {
      "text/plain": [
       "14561"
      ]
     },
     "execution_count": 93,
     "metadata": {},
     "output_type": "execute_result"
    }
   ],
   "source": [
    "len(bitext)"
   ]
  },
  {
   "cell_type": "markdown",
   "metadata": {},
   "source": [
    "### (2) Extract Glossary"
   ]
  },
  {
   "cell_type": "code",
   "execution_count": 94,
   "metadata": {},
   "outputs": [
    {
     "name": "stdout",
     "output_type": "stream",
     "text": [
      "(0, 0)\n",
      "antoine \t антуан\n",
      "(3, 3)\n",
      "mindua \t миндуа\n",
      "(5, 5)\n",
      "republic \t республика\n",
      "(6, 6)\n",
      "congo \t конго\n",
      "(4, 4)\n",
      "democratic \t демократическая\n",
      "(2, 2)\n",
      "mbe \t мбе\n",
      "(1, 1)\n",
      "kesia \t кесия\n"
     ]
    }
   ],
   "source": [
    "# Look at how words align in the first sentence\n",
    "for aligned_sent in bitext[0:1]:\n",
    "    for pair in aligned_sent._alignment:\n",
    "        print(pair)\n",
    "        try:\n",
    "            print(aligned_sent._words[pair[0]], '\\t', aligned_sent._mots[pair[1]])\n",
    "        except TypeError:\n",
    "            print(aligned_sent._words[pair[0]], '\\t', '--')"
   ]
  },
  {
   "cell_type": "code",
   "execution_count": 95,
   "metadata": {},
   "outputs": [],
   "source": [
    "# Write uncleaned Glossary to file\n",
    "with open(PROC_DATA_PREFIX + '/' + 'lexicon40', 'w', encoding='utf8') as toF:\n",
    "    for aligned_sent in bitext:\n",
    "        for pair in aligned_sent._alignment:\n",
    "            try:\n",
    "                print(aligned_sent._words[pair[0]], '\\t', aligned_sent._mots[pair[1]], file=toF)\n",
    "            except TypeError:\n",
    "                print(aligned_sent._words[pair[0]], '\\t', '--', file=toF)"
   ]
  },
  {
   "cell_type": "code",
   "execution_count": 12,
   "metadata": {
    "scrolled": true
   },
   "outputs": [
    {
     "name": "stdout",
     "output_type": "stream",
     "text": [
      "Number of lines in the resulting English-Russian glossary:\n",
      "  381171 /Users/alexskrn/Documents/NLP/WordAlign/wordalign_notebooks/data/lexicon40\r\n"
     ]
    }
   ],
   "source": [
    "print('Number of lines in the resulting English-Russian glossary:')\n",
    "!wc -l {PROC_DATA_PREFIX}/lexicon40"
   ]
  },
  {
   "cell_type": "code",
   "execution_count": null,
   "metadata": {},
   "outputs": [],
   "source": []
  }
 ],
 "metadata": {
  "kernelspec": {
   "display_name": "Python 3",
   "language": "python",
   "name": "python3"
  },
  "language_info": {
   "codemirror_mode": {
    "name": "ipython",
    "version": 3
   },
   "file_extension": ".py",
   "mimetype": "text/x-python",
   "name": "python",
   "nbconvert_exporter": "python",
   "pygments_lexer": "ipython3",
   "version": "3.6.8"
  }
 },
 "nbformat": 4,
 "nbformat_minor": 2
}
