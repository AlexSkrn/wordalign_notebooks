{
 "cells": [
  {
   "cell_type": "markdown",
   "metadata": {},
   "source": [
    "# Subset of data for HEROKU"
   ]
  },
  {
   "cell_type": "code",
   "execution_count": 2,
   "metadata": {},
   "outputs": [],
   "source": [
    "PROC_DATA_PREFIX = '/Users/alexskrn/Documents/TEXT_CORPORA/united_nations_corpus/en-ru/PREPROC_FILES'"
   ]
  },
  {
   "cell_type": "code",
   "execution_count": 8,
   "metadata": {},
   "outputs": [],
   "source": [
    "# Count sentence lengths\n",
    "def count_sent_len(data_prefix, file_in, file_out):\n",
    "    with open(data_prefix + '/' + file_in, 'r', encoding='utf8') as inF, \\\n",
    "        open(data_prefix + '/' + file_out, 'w', encoding='utf8') as toF_nums:\n",
    "        for line in inF:\n",
    "            line_list = line.split('\\t')\n",
    "            src_str, trg_str = line_list[0].strip(), line_list[1].strip()\n",
    "            src_len, trg_len = len(src_str.split()), len(trg_str.split())\n",
    "            toF_nums.write('{}\\t{}\\n'.format(src_len, trg_len))"
   ]
  },
  {
   "cell_type": "code",
   "execution_count": 9,
   "metadata": {},
   "outputs": [
    {
     "data": {
      "text/html": [
       "<div>\n",
       "<style scoped>\n",
       "    .dataframe tbody tr th:only-of-type {\n",
       "        vertical-align: middle;\n",
       "    }\n",
       "\n",
       "    .dataframe tbody tr th {\n",
       "        vertical-align: top;\n",
       "    }\n",
       "\n",
       "    .dataframe thead th {\n",
       "        text-align: right;\n",
       "    }\n",
       "</style>\n",
       "<table border=\"1\" class=\"dataframe\">\n",
       "  <thead>\n",
       "    <tr style=\"text-align: right;\">\n",
       "      <th></th>\n",
       "      <th>src_len</th>\n",
       "      <th>trg_len</th>\n",
       "    </tr>\n",
       "  </thead>\n",
       "  <tbody>\n",
       "    <tr>\n",
       "      <td>0</td>\n",
       "      <td>7</td>\n",
       "      <td>7</td>\n",
       "    </tr>\n",
       "    <tr>\n",
       "      <td>1</td>\n",
       "      <td>4</td>\n",
       "      <td>4</td>\n",
       "    </tr>\n",
       "    <tr>\n",
       "      <td>2</td>\n",
       "      <td>4</td>\n",
       "      <td>4</td>\n",
       "    </tr>\n",
       "    <tr>\n",
       "      <td>3</td>\n",
       "      <td>5</td>\n",
       "      <td>5</td>\n",
       "    </tr>\n",
       "    <tr>\n",
       "      <td>4</td>\n",
       "      <td>5</td>\n",
       "      <td>5</td>\n",
       "    </tr>\n",
       "  </tbody>\n",
       "</table>\n",
       "</div>"
      ],
      "text/plain": [
       "   src_len  trg_len\n",
       "0        7        7\n",
       "1        4        4\n",
       "2        4        4\n",
       "3        5        5\n",
       "4        5        5"
      ]
     },
     "execution_count": 9,
     "metadata": {},
     "output_type": "execute_result"
    }
   ],
   "source": [
    "# heroku limits dev db size to 10,000 rows total\n",
    "# Process:\n",
    "# Get 2 files - 1,000 line long raw text and 1,000 line long tokenized text file\n",
    "# Extract a lexicon from the tokenized text file\n",
    "# Iterate over glossary and the lexicon to keep only those terms which occur in the tokenized file\n",
    "# with the aim of getting a 9,000 line glossary file\n",
    "# Remove too long sentences from the raw text file - \n",
    "\n",
    "import pandas as pd\n",
    "\n",
    "count_sent_len(PROC_DATA_PREFIX, \n",
    "               'en_ru_sort_uniq_nearduplrem_dissim_tok_2std_40',  # input file\n",
    "               'sent_lengths_40.txt'                              # output file\n",
    "              )\n",
    "\n",
    "my_data = pd.read_csv(PROC_DATA_PREFIX + '/' + 'sent_lengths_40.txt', sep='\\t', header=None)\n",
    "my_data.columns = ['src_len', 'trg_len']\n",
    "my_data.head()"
   ]
  },
  {
   "cell_type": "code",
   "execution_count": null,
   "metadata": {},
   "outputs": [],
   "source": [
    "# Keep only those line which are less than the threshold number of words\n",
    "threshold = 20  # words\n",
    "with open(PROC_DATA_PREFIX + '/' + 'en_ru_sort_uniq_nearduplrem_dissim_tok_2std_40', 'r', encoding='utf8') as inF, \\\n",
    "     open(PROC_DATA_PREFIX + '/' + 'en_ru_sort_uniq_nearduplrem_dissim_tok_2std_20', 'w', encoding='utf8') as toF:\n",
    "    for idx, line in enumerate(inF):\n",
    "        if (my_data.loc[:, 'src_len'][idx] < threshold) and (my_data.loc[:, 'trg_len'][idx] < threshold):\n",
    "            toF.write(line)\n",
    "\n",
    "!wc -l {PROC_DATA_PREFIX}/'en_ru_sort_uniq_nearduplrem_dissim_tok_2std_40'\n",
    "!wc -l {PROC_DATA_PREFIX}/'en_ru_sort_uniq_nearduplrem_dissim_tok_2std_20'"
   ]
  },
  {
   "cell_type": "markdown",
   "metadata": {},
   "source": [
    " 14561 /Users/alexskrn/Documents/TEXT_CORPORA/united_nations_corpus/en-ru/PREPROC_FILES/en_ru_sort_uniq_nearduplrem_dissim_tok_2std_40\n",
    "    3398 /Users/alexskrn/Documents/TEXT_CORPORA/united_nations_corpus/en-ru/PREPROC_FILES/en_ru_sort_uniq_nearduplrem_dissim_tok_2std_20"
   ]
  },
  {
   "cell_type": "code",
   "execution_count": null,
   "metadata": {},
   "outputs": [],
   "source": [
    "# raw text file\n",
    "threshold = 20\n",
    "with open(PROC_DATA_PREFIX + '/' + 'en_ru_sort_uniq_nearduplrem_dissim_2std_40', 'r', encoding='utf8') as inF, \\\n",
    "     open(PROC_DATA_PREFIX + '/' + 'en_ru_sort_uniq_nearduplrem_dissim_2std_20', 'w', encoding='utf8') as toF:\n",
    "    for idx, line in enumerate(inF):\n",
    "        if (my_data.loc[:, 'src_len'][idx] < threshold) and (my_data.loc[:, 'trg_len'][idx] < threshold):\n",
    "            toF.write(line)\n",
    "\n",
    "!wc -l {PROC_DATA_PREFIX}/'en_ru_sort_uniq_nearduplrem_dissim_2std_40'\n",
    "!wc -l {PROC_DATA_PREFIX}/'en_ru_sort_uniq_nearduplrem_dissim_2std_20'"
   ]
  },
  {
   "cell_type": "markdown",
   "metadata": {},
   "source": [
    "  14561 /Users/alexskrn/Documents/TEXT_CORPORA/united_nations_corpus/en-ru/PREPROC_FILES/en_ru_sort_uniq_nearduplrem_dissim_2std_40\n",
    "    3398 /Users/alexskrn/Documents/TEXT_CORPORA/united_nations_corpus/en-ru/PREPROC_FILES/en_ru_sort_uniq_nearduplrem_dissim_2std_20"
   ]
  },
  {
   "cell_type": "code",
   "execution_count": null,
   "metadata": {},
   "outputs": [],
   "source": [
    "one_word_sent_idx = []\n",
    "with open(PROC_DATA_PREFIX + '/' + 'en_ru_sort_uniq_nearduplrem_dissim_tok_2std_20', 'r', encoding='utf8') as inF:\n",
    "    for idx, line in enumerate(inF):\n",
    "        src, trg = line.split('\\t')\n",
    "        src, trg = src.strip(), trg.strip()\n",
    "        if (len(src.split()) == 1) or (len(trg.split()) == 1):\n",
    "            one_word_sent_idx.append(idx)\n",
    "            \n",
    "print(len(one_word_sent_idx))\n",
    "print(one_word_sent_idx)"
   ]
  },
  {
   "cell_type": "code",
   "execution_count": null,
   "metadata": {},
   "outputs": [],
   "source": [
    "# Remove single word lines\n",
    "with open(PROC_DATA_PREFIX + '/' + 'en_ru_sort_uniq_nearduplrem_dissim_tok_2std_20', 'r', encoding='utf8') as inF, \\\n",
    "    open(PROC_DATA_PREFIX + '/' + 'en_ru_sort_uniq_nearduplrem_dissim_tok_2std_20_oneword', 'w', encoding='utf8') as toF:\n",
    "    for idx, line in enumerate(inF):\n",
    "        if idx not in one_word_sent_idx:\n",
    "            toF.write(line)\n",
    "\n",
    "!wc -l {PROC_DATA_PREFIX}/en_ru_sort_uniq_nearduplrem_dissim_tok_2std_20_oneword\n",
    "\n",
    "with open(PROC_DATA_PREFIX + '/' + 'en_ru_sort_uniq_nearduplrem_dissim_2std_20', 'r', encoding='utf8') as inF, \\\n",
    "    open(PROC_DATA_PREFIX + '/' + 'en_ru_sort_uniq_nearduplrem_dissim_2std_20_oneword', 'w', encoding='utf8') as toF:\n",
    "    for idx, line in enumerate(inF):\n",
    "        if idx not in one_word_sent_idx:\n",
    "            toF.write(line)\n",
    "\n",
    "!wc -l {PROC_DATA_PREFIX}/en_ru_sort_uniq_nearduplrem_dissim_2std_20_oneword"
   ]
  },
  {
   "cell_type": "code",
   "execution_count": null,
   "metadata": {},
   "outputs": [],
   "source": [
    "# get rid of near duplicate lines at a lower cutoff point compared to the main corpus (which was 0.85)\n",
    "threshold = 0.66\n",
    "with open(PROC_DATA_PREFIX + '/' + 'en_ru_sort_uniq_nearduplrem_dissim_tok_2std_20_oneword', 'r', encoding='utf8') as inF, \\\n",
    "     open(PROC_DATA_PREFIX + '/' + 'en_ru_sort_uniq_nearduplrem_dissim_tok_2std_20_oneword_1000', 'w', encoding='utf8') as toF:\n",
    "    prev_line = inF.readline()\n",
    "    for curr_line in inF:\n",
    "        if jaro_similarity(prev_line, curr_line) > threshold:  # Two lines are very similar, forget previous line\n",
    "            prev_line = curr_line\n",
    "        else:\n",
    "            toF.write(prev_line)   # If not similar, put previous line into file,\n",
    "            prev_line = curr_line  # then forget it"
   ]
  },
  {
   "cell_type": "code",
   "execution_count": 6,
   "metadata": {},
   "outputs": [
    {
     "name": "stdout",
     "output_type": "stream",
     "text": [
      "     980 /Users/alexskrn/Documents/TEXT_CORPORA/united_nations_corpus/en-ru/PREPROC_FILES/en_ru_sort_uniq_nearduplrem_dissim_tok_2std_20_oneword_1000\r\n"
     ]
    }
   ],
   "source": [
    "!wc -l {PROC_DATA_PREFIX}/'en_ru_sort_uniq_nearduplrem_dissim_tok_2std_20_oneword_1000'"
   ]
  },
  {
   "cell_type": "markdown",
   "metadata": {},
   "source": [
    " 3398 /Users/alexskrn/Documents/TEXT_CORPORA/united_nations_corpus/en-ru/PREPROC_FILES/en_ru_sort_uniq_nearduplrem_dissim_tok_2std_20\n",
    "    2844 /Users/alexskrn/Documents/TEXT_CORPORA/united_nations_corpus/en-ru/PREPROC_FILES/en_ru_sort_uniq_nearduplrem_dissim_tok_2std_20_short"
   ]
  },
  {
   "cell_type": "code",
   "execution_count": null,
   "metadata": {},
   "outputs": [],
   "source": [
    "# Do approximately the same for raw text file\n",
    "threshold = 0.65\n",
    "with open(PROC_DATA_PREFIX + '/' + 'en_ru_sort_uniq_nearduplrem_dissim_2std_20_oneword', 'r', encoding='utf8') as inF, \\\n",
    "     open(PROC_DATA_PREFIX + '/' + 'en_ru_sort_uniq_nearduplrem_dissim_2std_20_oneword_1000', 'w', encoding='utf8') as toF:\n",
    "    prev_line = inF.readline()\n",
    "    for curr_line in inF:\n",
    "        if jaro_similarity(prev_line, curr_line) > threshold:  # Two lines are very similar, forget previous line\n",
    "            prev_line = curr_line\n",
    "        else:\n",
    "            toF.write(prev_line)   # If not similar, put previous line into file,\n",
    "            prev_line = curr_line  # then forget it\n",
    "\n",
    "!wc -l {PROC_DATA_PREFIX}/'en_ru_sort_uniq_nearduplrem_dissim_2std_20_oneword_1000'"
   ]
  },
  {
   "cell_type": "code",
   "execution_count": null,
   "metadata": {},
   "outputs": [],
   "source": [
    "!cp {PROC_DATA_PREFIX}/'en_ru_sort_uniq_nearduplrem_dissim_2std_20_oneword_1000' \\\n",
    "    {PROC_DATA_PREFIX}/'en_ru_heroku_1000'\n",
    "\n",
    "!cp {PROC_DATA_PREFIX}/'en_ru_sort_uniq_nearduplrem_dissim_tok_2std_20_oneword_1000' \\\n",
    "    {PROC_DATA_PREFIX}/'en_ru_heroku_tok_1000'"
   ]
  },
  {
   "cell_type": "code",
   "execution_count": 5,
   "metadata": {},
   "outputs": [
    {
     "name": "stdout",
     "output_type": "stream",
     "text": [
      "     994 /Users/alexskrn/Documents/TEXT_CORPORA/united_nations_corpus/en-ru/PREPROC_FILES/en_ru_heroku_1000\n",
      "     980 /Users/alexskrn/Documents/TEXT_CORPORA/united_nations_corpus/en-ru/PREPROC_FILES/en_ru_heroku_tok_1000\n"
     ]
    }
   ],
   "source": [
    "!wc -l {PROC_DATA_PREFIX}/'en_ru_heroku_1000'\n",
    "!wc -l {PROC_DATA_PREFIX}/'en_ru_heroku_tok_1000'"
   ]
  },
  {
   "cell_type": "markdown",
   "metadata": {},
   "source": [
    "## Examples of jaro similarity scores"
   ]
  },
  {
   "cell_type": "code",
   "execution_count": null,
   "metadata": {},
   "outputs": [],
   "source": [
    "jaro_similarity('(a) Protection of civilians\ta) Защита гражданского населения', \n",
    "                '(a) Protection of civilians\tа) Защита гражданского населения')\n",
    "# 0.9210922787193973"
   ]
  },
  {
   "cell_type": "code",
   "execution_count": null,
   "metadata": {},
   "outputs": [],
   "source": [
    "t1 = 'Welcoming the report of the Secretary-General of 7 December 1999 (S/1999/1219) and the observations and recommendations contained therein,\tс удовлетворением отмечая доклад Генерального секретаря от 7 декабря 1999 года (S/1999/1219) и содержащиеся в нем замечания и рекомендации,'\n",
    "t2 = 'Welcoming the report of the Secretary-General of 7 January 2013 (S/2013/07) on the United Nations operation in Cyprus,\tприветствуя доклад Генерального секретаря от 7 января 2013 года (S/2013/7) об операции Организации Объединенных Наций на Кипре,'\n",
    "jaro_similarity(t1, t2)\n",
    "# 0.738505867179379"
   ]
  },
  {
   "cell_type": "code",
   "execution_count": null,
   "metadata": {},
   "outputs": [],
   "source": [
    "t1 = 'benefit from same terms conditions service mutatis mutandis as permanent judges international tribunal for rwanda\tа пользуются mutatis mutandis теми же условиями службы что постоянные судьи международного трибунала по руанде'\n",
    "t2 = 'benefit from same terms conditions service mutatis mutandis as permanent judges international tribunal\tа пользуются mutatis mutandis теми же условиями службы что постоянные судьи международного трибунала'\n",
    "jaro_similarity(t1, t2)\n",
    "# 0.8932163382594417"
   ]
  },
  {
   "cell_type": "code",
   "execution_count": null,
   "metadata": {},
   "outputs": [],
   "source": [
    "t1 = 'impellers\tкрыльчатки'\n",
    "t2 = 'implementation\tосуществление'\n",
    "t3 = 'implementation mechanism\tмеханизм осуществления'\n",
    "print(jaro_similarity(t1, t2))\n",
    "print(jaro_similarity(t2, t3))\n",
    "# 0.5523809523809524\n",
    "# 0.7938196555217831"
   ]
  }
 ],
 "metadata": {
  "kernelspec": {
   "display_name": "Python 3",
   "language": "python",
   "name": "python3"
  },
  "language_info": {
   "codemirror_mode": {
    "name": "ipython",
    "version": 3
   },
   "file_extension": ".py",
   "mimetype": "text/x-python",
   "name": "python",
   "nbconvert_exporter": "python",
   "pygments_lexer": "ipython3",
   "version": "3.6.8"
  }
 },
 "nbformat": 4,
 "nbformat_minor": 2
}
