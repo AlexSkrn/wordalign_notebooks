{
 "cells": [
  {
   "cell_type": "code",
   "execution_count": 1,
   "metadata": {},
   "outputs": [
    {
     "name": "stdout",
     "output_type": "stream",
     "text": [
      "/Users/alexskrn/Documents/TEXT_CORPORA\r\n"
     ]
    }
   ],
   "source": [
    "!pwd"
   ]
  },
  {
   "cell_type": "code",
   "execution_count": 2,
   "metadata": {},
   "outputs": [],
   "source": [
    "PROC_DATA_PREFIX = '/Users/alexskrn/Documents/TEXT_CORPORA/united_nations_corpus/en-ru/PREPROC_FILES'"
   ]
  },
  {
   "cell_type": "code",
   "execution_count": 4,
   "metadata": {},
   "outputs": [
    {
     "name": "stdout",
     "output_type": "stream",
     "text": [
      "  951654 /Users/alexskrn/Documents/TEXT_CORPORA/united_nations_corpus/en-ru/PREPROC_FILES/lexicon\n",
      "  381171 /Users/alexskrn/Documents/TEXT_CORPORA/united_nations_corpus/en-ru/PREPROC_FILES/lexicon40\n",
      "  494045 /Users/alexskrn/Documents/TEXT_CORPORA/united_nations_corpus/en-ru/PREPROC_FILES/lexicon_new_40\n"
     ]
    }
   ],
   "source": [
    "!wc -l {PROC_DATA_PREFIX}/lexicon\n",
    "!wc -l {PROC_DATA_PREFIX}/lexicon40\n",
    "!wc -l {PROC_DATA_PREFIX}/lexicon_new_40"
   ]
  },
  {
   "cell_type": "code",
   "execution_count": 5,
   "metadata": {},
   "outputs": [
    {
     "name": "stdout",
     "output_type": "stream",
     "text": [
      "republic \t демократическая\n",
      "antoine \t антуан\n",
      "mindua \t миндуа\n",
      "participation \t россии\n",
      "partner \t партнера\n",
      "supply \t обогащения\n",
      "\n",
      "kesia \t мбе\n",
      "antoine \t антуан\n",
      "mindua \t миндуа\n",
      "participation \t россии\n",
      "partner \t партнера\n",
      "russia \t россии\n",
      "\n",
      "antoine \t антуан\n",
      "mindua \t миндуа\n",
      "republic \t республика\n",
      "buffer \t началах\n",
      "and \t и\n",
      "reserve \t резервных\n"
     ]
    }
   ],
   "source": [
    "!head -3 {PROC_DATA_PREFIX}/lexicon\n",
    "!tail -3 {PROC_DATA_PREFIX}/lexicon\n",
    "print()\n",
    "!head -3 {PROC_DATA_PREFIX}/lexicon40\n",
    "!tail -3 {PROC_DATA_PREFIX}/lexicon40\n",
    "print()\n",
    "!head -3 {PROC_DATA_PREFIX}/lexicon_new_40\n",
    "!tail -3 {PROC_DATA_PREFIX}/lexicon_new_40"
   ]
  },
  {
   "cell_type": "code",
   "execution_count": 6,
   "metadata": {},
   "outputs": [],
   "source": [
    "!sort -u {PROC_DATA_PREFIX}/lexicon40 > {PROC_DATA_PREFIX}/lexicon_sort_uniq_new_40"
   ]
  },
  {
   "cell_type": "code",
   "execution_count": 7,
   "metadata": {},
   "outputs": [
    {
     "name": "stdout",
     "output_type": "stream",
     "text": [
      "   96246 /Users/alexskrn/Documents/TEXT_CORPORA/united_nations_corpus/en-ru/PREPROC_FILES/lexicon_sort_uniq\n",
      "đorđević \t кевина\n",
      "102nd \t пленарном\n",
      "10th \t 10го\n",
      "10th \t десятой\n",
      "10th \t десятую\n",
      "état \t перевороте\n",
      "état \t переворотом\n",
      "état \t свержению\n",
      "état \t совершенный\n",
      "état \t являлись\n",
      "   58241 /Users/alexskrn/Documents/TEXT_CORPORA/united_nations_corpus/en-ru/PREPROC_FILES/lexicon_sort_uniq40\n",
      "đorđević \t джёрджевича\n",
      "102nd \t пленарном\n",
      "10th \t 10го\n",
      "10th \t годовщине\n",
      "10th \t десятую\n",
      "árpád \t арпат\n",
      "état \t интегрированного\n",
      "état \t переворот\n",
      "état \t переворота\n",
      "état \t переворотом\n",
      "   58241 /Users/alexskrn/Documents/TEXT_CORPORA/united_nations_corpus/en-ru/PREPROC_FILES/lexicon_sort_uniq_new_40\n",
      "đorđević \t джёрджевича\n",
      "102nd \t пленарном\n",
      "10th \t 10го\n",
      "10th \t годовщине\n",
      "10th \t десятую\n",
      "árpád \t арпат\n",
      "état \t интегрированного\n",
      "état \t переворот\n",
      "état \t переворота\n",
      "état \t переворотом\n"
     ]
    }
   ],
   "source": [
    "!wc -l {PROC_DATA_PREFIX}/lexicon_sort_uniq\n",
    "!head -5 {PROC_DATA_PREFIX}/lexicon_sort_uniq\n",
    "!tail -5 {PROC_DATA_PREFIX}/lexicon_sort_uniq\n",
    "\n",
    "!wc -l {PROC_DATA_PREFIX}/lexicon_sort_uniq40\n",
    "!head -5 {PROC_DATA_PREFIX}/lexicon_sort_uniq40\n",
    "!tail -5 {PROC_DATA_PREFIX}/lexicon_sort_uniq40\n",
    "\n",
    "!wc -l {PROC_DATA_PREFIX}/lexicon_sort_uniq_new_40\n",
    "!head -5 {PROC_DATA_PREFIX}/lexicon_sort_uniq_new_40\n",
    "!tail -5 {PROC_DATA_PREFIX}/lexicon_sort_uniq_new_40"
   ]
  },
  {
   "cell_type": "code",
   "execution_count": 8,
   "metadata": {},
   "outputs": [],
   "source": [
    "# Remove lines where SRC == TRG\n",
    "with open(PROC_DATA_PREFIX + '/' + 'lexicon_sort_uniq40', 'r', encoding='utf8') as inF, \\\n",
    "     open(PROC_DATA_PREFIX + '/' + 'lexicon_sort_uniq_nonequal_new_40', 'w', encoding='utf8') as toF:\n",
    "    for line in inF:\n",
    "        line_list = line.split('\\t')\n",
    "        src_str, trg_str = line_list[0].strip(), line_list[1].strip()\n",
    "        if src_str != trg_str:\n",
    "            toF.write(line)"
   ]
  },
  {
   "cell_type": "code",
   "execution_count": 9,
   "metadata": {},
   "outputs": [
    {
     "name": "stdout",
     "output_type": "stream",
     "text": [
      "   96151 /Users/alexskrn/Documents/TEXT_CORPORA/united_nations_corpus/en-ru/PREPROC_FILES/lexicon_sort_uniq_nonequal\n",
      "đorđević \t кевина\n",
      "102nd \t пленарном\n",
      "10th \t 10го\n",
      "10th \t десятой\n",
      "10th \t десятую\n",
      "état \t перевороте\n",
      "état \t переворотом\n",
      "état \t свержению\n",
      "état \t совершенный\n",
      "état \t являлись\n",
      "   58161 /Users/alexskrn/Documents/TEXT_CORPORA/united_nations_corpus/en-ru/PREPROC_FILES/lexicon_sort_uniq_nonequal40\n",
      "đorđević \t джёрджевича\n",
      "102nd \t пленарном\n",
      "10th \t 10го\n",
      "10th \t годовщине\n",
      "10th \t десятую\n",
      "árpád \t арпат\n",
      "état \t интегрированного\n",
      "état \t переворот\n",
      "état \t переворота\n",
      "état \t переворотом\n",
      "   58161 /Users/alexskrn/Documents/TEXT_CORPORA/united_nations_corpus/en-ru/PREPROC_FILES/lexicon_sort_uniq_nonequal_new_40\n",
      "đorđević \t джёрджевича\n",
      "102nd \t пленарном\n",
      "10th \t 10го\n",
      "10th \t годовщине\n",
      "10th \t десятую\n",
      "árpád \t арпат\n",
      "état \t интегрированного\n",
      "état \t переворот\n",
      "état \t переворота\n",
      "état \t переворотом\n"
     ]
    }
   ],
   "source": [
    "!wc -l {PROC_DATA_PREFIX}/lexicon_sort_uniq_nonequal\n",
    "!head -5 {PROC_DATA_PREFIX}/lexicon_sort_uniq_nonequal\n",
    "!tail -5 {PROC_DATA_PREFIX}/lexicon_sort_uniq_nonequal\n",
    "\n",
    "!wc -l {PROC_DATA_PREFIX}/lexicon_sort_uniq_nonequal40\n",
    "!head -5 {PROC_DATA_PREFIX}/lexicon_sort_uniq_nonequal40\n",
    "!tail -5 {PROC_DATA_PREFIX}/lexicon_sort_uniq_nonequal40\n",
    "\n",
    "!wc -l {PROC_DATA_PREFIX}/lexicon_sort_uniq_nonequal_new_40\n",
    "!head -5 {PROC_DATA_PREFIX}/lexicon_sort_uniq_nonequal_new_40\n",
    "!tail -5 {PROC_DATA_PREFIX}/lexicon_sort_uniq_nonequal_new_40"
   ]
  },
  {
   "cell_type": "code",
   "execution_count": 10,
   "metadata": {},
   "outputs": [],
   "source": [
    "import nltk\n",
    "from nltk.metrics.distance import jaro_similarity\n",
    "\n",
    "# Count all similarity scores\n",
    "with open(PROC_DATA_PREFIX + '/' + 'lexicon_sort_uniq_nonequal_new_40', 'r', encoding='utf8') as inF, \\\n",
    "    open(PROC_DATA_PREFIX + '/' + 'lex_jaco_simil_scores_new_40.txt', 'w', encoding='utf8') as toF_fuzzy:\n",
    "    for line in inF:\n",
    "        line_list = line.split('\\t')\n",
    "        src_str, trg_str = line_list[0].strip(), line_list[1].strip()\n",
    "        jaro_sim = jaro_similarity(src_str, trg_str)\n",
    "        toF_fuzzy.write(str(jaro_sim) + '\\n')"
   ]
  },
  {
   "cell_type": "code",
   "execution_count": 11,
   "metadata": {
    "scrolled": true
   },
   "outputs": [
    {
     "name": "stdout",
     "output_type": "stream",
     "text": [
      "   96151 /Users/alexskrn/Documents/TEXT_CORPORA/united_nations_corpus/en-ru/PREPROC_FILES/lex_jaco_simil_scores.txt\n",
      "   58161 /Users/alexskrn/Documents/TEXT_CORPORA/united_nations_corpus/en-ru/PREPROC_FILES/lex_jaco_simil_scores40.txt\n",
      "   58161 /Users/alexskrn/Documents/TEXT_CORPORA/united_nations_corpus/en-ru/PREPROC_FILES/lex_jaco_simil_scores_new_40.txt\n"
     ]
    }
   ],
   "source": [
    "!wc -l {PROC_DATA_PREFIX}/'lex_jaco_simil_scores.txt'\n",
    "!wc -l {PROC_DATA_PREFIX}/'lex_jaco_simil_scores40.txt'\n",
    "!wc -l {PROC_DATA_PREFIX}/'lex_jaco_simil_scores_new_40.txt'"
   ]
  },
  {
   "cell_type": "code",
   "execution_count": 12,
   "metadata": {},
   "outputs": [
    {
     "name": "stdout",
     "output_type": "stream",
     "text": [
      "58161\n",
      "     832 /Users/alexskrn/Documents/TEXT_CORPORA/united_nations_corpus/en-ru/PREPROC_FILES/lex_above_45_sim_text_new_40.txt\r\n"
     ]
    }
   ],
   "source": [
    "# What if I filter out highly similar items?\n",
    "with open(PROC_DATA_PREFIX + '/' + 'lex_jaco_simil_scores_new_40.txt', 'r', encoding='utf8') as inF_scores, \\\n",
    "    open(PROC_DATA_PREFIX + '/' + 'lexicon_sort_uniq_nonequal_new_40', 'r', encoding='utf8') as inF_text, \\\n",
    "    open(PROC_DATA_PREFIX + '/' + 'lex_above_45_sim_text_new_40.txt', 'w', encoding='utf8') as toF_text:\n",
    "    simil_scores = [float(s) for s in inF_scores]\n",
    "    print(len(simil_scores))\n",
    "    for i, line in enumerate(inF_text):\n",
    "        if simil_scores[i] > 0.45:\n",
    "            toF_text.write(line)\n",
    "\n",
    "!wc -l {PROC_DATA_PREFIX}/'lex_above_45_sim_text_new_40.txt'"
   ]
  },
  {
   "cell_type": "code",
   "execution_count": 12,
   "metadata": {},
   "outputs": [
    {
     "name": "stdout",
     "output_type": "stream",
     "text": [
      "     849 /Users/alexskrn/Documents/TEXT_CORPORA/united_nations_corpus/en-ru/PREPROC_FILES/lex_above_10_sim_text40.txt\n",
      "     847 /Users/alexskrn/Documents/TEXT_CORPORA/united_nations_corpus/en-ru/PREPROC_FILES/lex_above_40_sim_text40.txt\n",
      "     832 /Users/alexskrn/Documents/TEXT_CORPORA/united_nations_corpus/en-ru/PREPROC_FILES/lex_above_45_sim_text40.txt\n",
      "     813 /Users/alexskrn/Documents/TEXT_CORPORA/united_nations_corpus/en-ru/PREPROC_FILES/lex_above_50_sim_text40.txt\n",
      "     796 /Users/alexskrn/Documents/TEXT_CORPORA/united_nations_corpus/en-ru/PREPROC_FILES/lex_above_60_sim_text40.txt\n",
      "     915 /Users/alexskrn/Documents/TEXT_CORPORA/united_nations_corpus/en-ru/PREPROC_FILES/lex_above_10_sim_text.txt\n",
      "     915 /Users/alexskrn/Documents/TEXT_CORPORA/united_nations_corpus/en-ru/PREPROC_FILES/lex_above_30_sim_text.txt\n",
      "     845 /Users/alexskrn/Documents/TEXT_CORPORA/united_nations_corpus/en-ru/PREPROC_FILES/lex_above_50_sim_text.txt\n",
      "     812 /Users/alexskrn/Documents/TEXT_CORPORA/united_nations_corpus/en-ru/PREPROC_FILES/lex_above_60_sim_text.txt\n"
     ]
    }
   ],
   "source": [
    "!wc -l {PROC_DATA_PREFIX}/'lex_above_10_sim_text40.txt'\n",
    "!wc -l {PROC_DATA_PREFIX}/'lex_above_40_sim_text40.txt'\n",
    "!wc -l {PROC_DATA_PREFIX}/'lex_above_45_sim_text40.txt'\n",
    "!wc -l {PROC_DATA_PREFIX}/'lex_above_50_sim_text40.txt'\n",
    "!wc -l {PROC_DATA_PREFIX}/'lex_above_60_sim_text40.txt'\n",
    "# baseline, 80-token-long sentences\n",
    "!wc -l {PROC_DATA_PREFIX}/'lex_above_10_sim_text.txt'\n",
    "!wc -l {PROC_DATA_PREFIX}/'lex_above_30_sim_text.txt'\n",
    "!wc -l {PROC_DATA_PREFIX}/'lex_above_50_sim_text.txt'\n",
    "!wc -l {PROC_DATA_PREFIX}/'lex_above_60_sim_text.txt'"
   ]
  },
  {
   "cell_type": "code",
   "execution_count": 13,
   "metadata": {},
   "outputs": [
    {
     "name": "stdout",
     "output_type": "stream",
     "text": [
      "58161\n",
      "   57329 /Users/alexskrn/Documents/TEXT_CORPORA/united_nations_corpus/en-ru/PREPROC_FILES/lex_preproc_new_40\r\n"
     ]
    }
   ],
   "source": [
    "# Keep only dissimilar items\n",
    "threshold = 0.45  # similarity score\n",
    "with open(PROC_DATA_PREFIX + '/' + 'lex_jaco_simil_scores_new_40.txt', 'r', encoding='utf8') as inF_scores, \\\n",
    "    open(PROC_DATA_PREFIX + '/' + 'lexicon_sort_uniq_nonequal_new_40', 'r', encoding='utf8') as inF_text, \\\n",
    "    open(PROC_DATA_PREFIX + '/' + 'lex_preproc_new_40', 'w', encoding='utf8') as toF_text:\n",
    "    simil_scores = [float(s) for s in inF_scores]\n",
    "    print(len(simil_scores))\n",
    "    for i, line in enumerate(inF_text):\n",
    "        if simil_scores[i] < threshold:\n",
    "            toF_text.write(line)\n",
    "\n",
    "!wc -l {PROC_DATA_PREFIX}/'lex_preproc_new_40'"
   ]
  },
  {
   "cell_type": "code",
   "execution_count": 14,
   "metadata": {},
   "outputs": [
    {
     "name": "stdout",
     "output_type": "stream",
     "text": [
      "   95236 /Users/alexskrn/Documents/TEXT_CORPORA/united_nations_corpus/en-ru/PREPROC_FILES/lex_preproc\n",
      "   57329 /Users/alexskrn/Documents/TEXT_CORPORA/united_nations_corpus/en-ru/PREPROC_FILES/lex_preproc40\n",
      "   57329 /Users/alexskrn/Documents/TEXT_CORPORA/united_nations_corpus/en-ru/PREPROC_FILES/lex_preproc_new_40\n"
     ]
    }
   ],
   "source": [
    "# baseline, 80-token-long sentences\n",
    "!wc -l {PROC_DATA_PREFIX}/'lex_preproc'\n",
    "!wc -l {PROC_DATA_PREFIX}/'lex_preproc40'\n",
    "!wc -l {PROC_DATA_PREFIX}/'lex_preproc_new_40'"
   ]
  },
  {
   "cell_type": "code",
   "execution_count": 15,
   "metadata": {},
   "outputs": [
    {
     "name": "stdout",
     "output_type": "stream",
     "text": [
      "   56460 /Users/alexskrn/Documents/TEXT_CORPORA/united_nations_corpus/en-ru/PREPROC_FILES/lex_preproc40_cleaned\n",
      "   56460 /Users/alexskrn/Documents/TEXT_CORPORA/united_nations_corpus/en-ru/PREPROC_FILES/lex_preproc_new_40_cleaned\n"
     ]
    }
   ],
   "source": [
    "# remove more extraneous elements\n",
    "stopwords = ['--']\n",
    "digits_set = set('0123456789')\n",
    "with open(PROC_DATA_PREFIX + '/' + 'lex_preproc_new_40', 'r', encoding='utf8') as inF, \\\n",
    "    open(PROC_DATA_PREFIX + '/' + 'lex_preproc_new_40_cleaned', 'w', encoding='utf8') as toF:\n",
    "    for line in inF:\n",
    "        line_list = line.split('\\t')\n",
    "        src_str, trg_str = line_list[0].strip(), line_list[1].strip()\n",
    "        if  (len(src_str) > 1) \\\n",
    "            and (len(src_str) > 1) \\\n",
    "            and (len(set(src_str) & digits_set) == 0) \\\n",
    "            and (len(set(trg_str) & digits_set) == 0) \\\n",
    "            and (trg_str not in stopwords):\n",
    "            toF.write(line)\n",
    "\n",
    "!wc -l {PROC_DATA_PREFIX}/'lex_preproc40_cleaned'\n",
    "!wc -l {PROC_DATA_PREFIX}/'lex_preproc_new_40_cleaned'"
   ]
  },
  {
   "cell_type": "code",
   "execution_count": null,
   "metadata": {},
   "outputs": [],
   "source": []
  }
 ],
 "metadata": {
  "kernelspec": {
   "display_name": "Python 3",
   "language": "python",
   "name": "python3"
  },
  "language_info": {
   "codemirror_mode": {
    "name": "ipython",
    "version": 3
   },
   "file_extension": ".py",
   "mimetype": "text/x-python",
   "name": "python",
   "nbconvert_exporter": "python",
   "pygments_lexer": "ipython3",
   "version": "3.6.8"
  }
 },
 "nbformat": 4,
 "nbformat_minor": 2
}
