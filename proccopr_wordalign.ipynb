{
 "cells": [
  {
   "cell_type": "code",
   "execution_count": null,
   "metadata": {},
   "outputs": [],
   "source": [
    "# Combine into a single tab-delimited file \n",
    "# Sort & remove duplicate lines\n",
    "# Remove near duplicate lines\n",
    "# Remove lines where SRC == TRG or where SRC ~= TRG (similarity scores)\n",
    "# Pre-process & word-tokenize\n",
    "# Count number of tokens in SRC and TRG in each line -> 1. Remove too long sentences & 2. Remove outliers"
   ]
  },
  {
   "cell_type": "markdown",
   "metadata": {},
   "source": [
    "### Data"
   ]
  },
  {
   "cell_type": "code",
   "execution_count": 1,
   "metadata": {},
   "outputs": [
    {
     "name": "stdout",
     "output_type": "stream",
     "text": [
      "/Users/alexskrn/Documents/TEXT_CORPORA\r\n"
     ]
    }
   ],
   "source": [
    "!pwd"
   ]
  },
  {
   "cell_type": "code",
   "execution_count": 2,
   "metadata": {},
   "outputs": [],
   "source": [
    "SRC_DATA_PREFIX = '/Users/alexskrn/Documents/TEXT_CORPORA/united_nations_corpus/en-ru'\n",
    "PROC_DATA_PREFIX = '/Users/alexskrn/Documents/TEXT_CORPORA/united_nations_corpus/en-ru/PREPROC_FILES'"
   ]
  },
  {
   "cell_type": "code",
   "execution_count": 12,
   "metadata": {},
   "outputs": [],
   "source": [
    "raw_src_en = 's_res_en'\n",
    "raw_src_ru = 's_res_ru'"
   ]
  },
  {
   "cell_type": "code",
   "execution_count": 9,
   "metadata": {},
   "outputs": [
    {
     "name": "stdout",
     "output_type": "stream",
     "text": [
      "   42421 /Users/alexskrn/Documents/TEXT_CORPORA/united_nations_corpus/en-ru/s_res_en\n",
      "   42421 /Users/alexskrn/Documents/TEXT_CORPORA/united_nations_corpus/en-ru/s_res_ru\n"
     ]
    }
   ],
   "source": [
    "!wc -l {SRC_DATA_PREFIX}/\"$raw_src_en\"\n",
    "!wc -l {SRC_DATA_PREFIX}/\"$raw_src_ru\""
   ]
  },
  {
   "cell_type": "code",
   "execution_count": 11,
   "metadata": {},
   "outputs": [
    {
     "name": "stdout",
     "output_type": "stream",
     "text": [
      "Distr.\n",
      "GENERAL\n",
      "28 July 1993\n",
      "RESOLUTION 852 (1993)\n",
      "Distr.\n",
      "GENERAL\n",
      "28 July 1993\n",
      "РЕЗОЛЮЦИЯ 852 (1993),\n"
     ]
    }
   ],
   "source": [
    "!head -4 {SRC_DATA_PREFIX}/\"$raw_src_en\"\n",
    "!head -4 {SRC_DATA_PREFIX}/\"$raw_src_ru\""
   ]
  },
  {
   "cell_type": "code",
   "execution_count": 14,
   "metadata": {},
   "outputs": [
    {
     "name": "stdout",
     "output_type": "stream",
     "text": [
      "22. Recalls the request, in resolution 2178 (2014), to the Analytical Support and Sanctions Monitoring Team, in close cooperation with all relevant United Nations counter-terrorism bodies, to report to the Committee pursuant to resolution 1267 (1999) and 1989 (2011) within 180 days, on the threat posed by foreign terrorist fighters recruited by or joining ISIL, ANF, and all groups, undertakings, and entities associated with Al-Qaida, and reiterates that this report should also focus on trends related to foreign terrorist fighters joining and working with all terrorist groups listed on the 1267 Al-Qaida Sanctions List, and should include an oral briefing to the Committee and a Committee brief to the Security Council at the next regular briefing on counter-terrorism on those operating in Africa.\n",
      "22. напоминает о просьбе, адресованной в резолюции 2178 (2014) Группе по аналитической поддержке и наблюдению за санкциями и заключающейся в том, чтобы она, действуя в тесном сотрудничестве со всеми соответствующими контртеррористическими органами Организации Объединенных Наций, в течение 180 дней представила Комитету, учрежденному резолюциями 1267 (1999) и 1989 (2011), доклад об угрозе, создаваемой иностранными боевиками-террористами, которых вербуют или принимают в свои ряды ИГИЛ, ФАН и все группы, предприятия и организации, связанные с <<Аль-Каидой>>, и вновь заявляет, что в этом докладе следует также уделить особое внимание тенденциям, связанным с пополнением иностранными боевиками-террористами рядов всех террористических групп, фигурирующих в санкционном перечне в отношении <<АльКаиды>>, предусмотренном резолюцией 1267, и с их взаимодействием с этими группами, а также отразить в нем устную информацию о таких группах, действующих в Африке, которая будет представлена Комитету и Комитетом Совету Безопасности на очередном брифинге по вопросам противодействия терроризму.\n"
     ]
    }
   ],
   "source": [
    "!tail -1 {SRC_DATA_PREFIX}/\"$raw_src_en\"\n",
    "!tail -1 {SRC_DATA_PREFIX}/\"$raw_src_ru\""
   ]
  },
  {
   "cell_type": "markdown",
   "metadata": {},
   "source": [
    "### Combine into a single tab-delimited file "
   ]
  },
  {
   "cell_type": "code",
   "execution_count": 16,
   "metadata": {},
   "outputs": [
    {
     "name": "stdout",
     "output_type": "stream",
     "text": [
      "   42421 /Users/alexskrn/Documents/TEXT_CORPORA/united_nations_corpus/en-ru/PREPROC_FILES/combined_en_ru\n",
      "Distr.\tDistr.\n",
      "GENERAL\tGENERAL\n",
      "28 July 1993\t28 July 1993\n",
      "RESOLUTION 852 (1993)\tРЕЗОЛЮЦИЯ 852 (1993),\n"
     ]
    }
   ],
   "source": [
    "!paste {SRC_DATA_PREFIX}/\"$raw_src_en\" {SRC_DATA_PREFIX}/\"$raw_src_ru\" > \\\n",
    "       {PROC_DATA_PREFIX}/en_ru\n",
    "!wc -l {PROC_DATA_PREFIX}/en_ru\n",
    "!head -4 {PROC_DATA_PREFIX}/en_ru"
   ]
  },
  {
   "cell_type": "markdown",
   "metadata": {},
   "source": [
    "### Sort & remove duplicate lines"
   ]
  },
  {
   "cell_type": "code",
   "execution_count": 50,
   "metadata": {},
   "outputs": [
    {
     "name": "stdout",
     "output_type": "stream",
     "text": [
      "   35367 /Users/alexskrn/Documents/TEXT_CORPORA/united_nations_corpus/en-ru/PREPROC_FILES/combined_en_ru_sorted_uniq\n",
      "− Alphons Orie (The Netherlands)\t- Алфонс Ори (Нидерланды)\n",
      "− Antoine Kesia-Mbe Mindua (Democratic Republic of Congo)\t- Антуан Кесия-Мбе Миндуа (Демократическая Республика Конго)\n",
      "− Bakone Justice Moloto (South Africa)\t- Баконе Джастис Молото (Южная Африка)\n",
      "− Burton Hall (The Bahamas)\t- Бертон Холл (Багамские Острова)\n"
     ]
    }
   ],
   "source": [
    "!sort -u {PROC_DATA_PREFIX}/en_ru > {PROC_DATA_PREFIX}/en_ru_sort_uniq\n",
    "!wc -l {PROC_DATA_PREFIX}/en_ru_sort_uniq\n",
    "!head -4 {PROC_DATA_PREFIX}/en_ru_sort_uniq"
   ]
  },
  {
   "cell_type": "code",
   "execution_count": 51,
   "metadata": {},
   "outputs": [
    {
     "name": "stdout",
     "output_type": "stream",
     "text": [
      "Árpád Prandler (Hungary)\tАрпат Прандлер (Венгрия)\r\n",
      "◦ Development with IAEA of a standing multilateral mechanism for reliable access to nuclear fuel, based on ideas to be considered at the next meeting of the Board of Governors.\t:: создания совместно с МАГАТЭ постоянного многостороннего механизма надежного обеспечения доступа к ядерному топливу на основе идей, которые будут рассмотрены на следующем заседании Совета управляющих.\r\n",
      "◦ Establishment on commercial terms of a buffer stock to hold a reserve of up to five years' supply of nuclear fuel dedicated to Iran, with the participation and under supervision of IAEA.\t:: создания на коммерческих началах резервных запасов предназначенного для Ирана ядерного топлива, рассчитанных на пять лет, при участии и под контролем МАГАТЭ;\r\n",
      "◦ Participation as a partner in an international facility in Russia to provide enrichment services for a reliable supply of fuel to Iran's nuclear reactors.\t:: привлечения его в качестве партнера к работе находящегося в России международного объекта по оказанию услуг в области обогащения в целях надежной поставки топлива для ядерных реакторов Ирана.\r\n"
     ]
    }
   ],
   "source": [
    "!tail -4 {PROC_DATA_PREFIX}/en_ru_sort_uniq"
   ]
  },
  {
   "cell_type": "code",
   "execution_count": 65,
   "metadata": {},
   "outputs": [
    {
     "name": "stdout",
     "output_type": "stream",
     "text": [
      "35367\n"
     ]
    }
   ],
   "source": [
    "def file_len(fname):\n",
    "    with open(fname) as f:\n",
    "        for i, l in enumerate(f):\n",
    "            pass\n",
    "    return i + 1\n",
    "\n",
    "print(file_len(PROC_DATA_PREFIX + '/' + 'en_ru_sort_uniq'))"
   ]
  },
  {
   "cell_type": "markdown",
   "metadata": {},
   "source": [
    "### Remove near duplicate lines"
   ]
  },
  {
   "cell_type": "code",
   "execution_count": 3,
   "metadata": {},
   "outputs": [],
   "source": [
    "import nltk\n",
    "from nltk.metrics.distance import jaro_similarity"
   ]
  },
  {
   "cell_type": "code",
   "execution_count": 44,
   "metadata": {},
   "outputs": [
    {
     "name": "stdout",
     "output_type": "stream",
     "text": [
      "   35367 /Users/alexskrn/Documents/TEXT_CORPORA/united_nations_corpus/en-ru/PREPROC_FILES/en_ru_sort_uniq\n",
      "   28972 /Users/alexskrn/Documents/TEXT_CORPORA/united_nations_corpus/en-ru/PREPROC_FILES/en_ru_sort_uniq_nearduplrem\n"
     ]
    }
   ],
   "source": [
    "# Get rid of near duplicate lines\n",
    "# ! takes long - wait\n",
    "threshold = 0.85\n",
    "with open(PROC_DATA_PREFIX + '/' + 'en_ru_sort_uniq', 'r', encoding='utf8') as inF, \\\n",
    "     open(PROC_DATA_PREFIX + '/' + 'en_ru_sort_uniq_nearduplrem', 'w', encoding='utf8') as toF:\n",
    "    prev_line = inF.readline()\n",
    "    for curr_line in inF:\n",
    "        if jaro_similarity(prev_line, curr_line) > threshold:  # Two lines are very similar, forget previous line\n",
    "            prev_line = curr_line\n",
    "        else:\n",
    "            toF.write(prev_line)   # If not similar, put previous line into file,\n",
    "            prev_line = curr_line  # then forget previous line\n",
    "\n",
    "!wc -l {PROC_DATA_PREFIX}/'en_ru_sort_uniq'\n",
    "!wc -l {PROC_DATA_PREFIX}/'en_ru_sort_uniq_nearduplrem'"
   ]
  },
  {
   "cell_type": "markdown",
   "metadata": {},
   "source": [
    "### Count similarity scores between SRC and TRG -> Remove lines where SRC == TRG or where SRC ~= TRG"
   ]
  },
  {
   "cell_type": "code",
   "execution_count": 197,
   "metadata": {
    "scrolled": true
   },
   "outputs": [
    {
     "name": "stdout",
     "output_type": "stream",
     "text": [
      "c. Location: Room 1610 Nan Fung Tower, 173 Des Voeux Road, Hong Kong\tc. Место расположения: Room 1610 Nan Fung Tower, 173 Des Voeux Road, Hong Kong\r\n"
     ]
    }
   ],
   "source": [
    "!sed -n -e '34934{p;q;}' /Users/alexskrn/Documents/TEXT_CORPORA/united_nations_corpus/en-ru/PREPROC_FILES/en_ru_sort_uniq"
   ]
  },
  {
   "cell_type": "code",
   "execution_count": 175,
   "metadata": {
    "scrolled": true
   },
   "outputs": [
    {
     "name": "stdout",
     "output_type": "stream",
     "text": [
      "Recalling its resolutions 1267 (1999), 1333 (2000), 1363 (2001), 1373 (2001), 1390 (2002), 1452 (2002), 1455 (2003), 1526 (2004), 1566 (2004), 1617 (2005), 1624 (2005), 1699 (2006), 1730 (2006), 1735 (2006), and 1822 (2008), and the relevant statements of its President,\tссылаясь на свои резолюции 1267 (1999), 1333 (2000), 1363 (2001), 1373 (2001), 1390 (2002), 1452 (2002), 1455 (2003), 1526 (2004), 1566 (2004), 1617 (2005), 1624 (2005), 1699 (2006), 1730 (2006), 1735 (2006) и 1822 (2008) и на соответствующие заявления своего Председателя,\r\n"
     ]
    }
   ],
   "source": [
    "!sed -n -e '28134{p;q;}' /Users/alexskrn/Documents/TEXT_CORPORA/united_nations_corpus/en-ru/PREPROC_FILES/en_ru_sort_uniq"
   ]
  },
  {
   "cell_type": "code",
   "execution_count": 168,
   "metadata": {},
   "outputs": [
    {
     "data": {
      "text/plain": [
       "0.7826023391812865"
      ]
     },
     "execution_count": 168,
     "metadata": {},
     "output_type": "execute_result"
    }
   ],
   "source": [
    "str1 = \"95-37553 (E) 281195\"\n",
    "str2 = \"95-37555.R 281195 281195\"\n",
    "jaro_similarity(str1, str2)"
   ]
  },
  {
   "cell_type": "code",
   "execution_count": 216,
   "metadata": {},
   "outputs": [
    {
     "data": {
      "text/plain": [
       "0.36842105263157887"
      ]
     },
     "execution_count": 216,
     "metadata": {},
     "output_type": "execute_result"
    }
   ],
   "source": [
    "str1 = \"\"\"Гуманитарный призыв\"\"\"\n",
    "str2 = \"\"\"Humanitarian appeal\"\"\"\n",
    "jaro_similarity(str1, str2)"
   ]
  },
  {
   "cell_type": "code",
   "execution_count": 45,
   "metadata": {},
   "outputs": [
    {
     "ename": "NameError",
     "evalue": "name 'jaco_simil_scores' is not defined",
     "output_type": "error",
     "traceback": [
      "\u001b[0;31m---------------------------------------------------------------------------\u001b[0m",
      "\u001b[0;31mNameError\u001b[0m                                 Traceback (most recent call last)",
      "\u001b[0;32m<ipython-input-45-b020b809faee>\u001b[0m in \u001b[0;36m<module>\u001b[0;34m\u001b[0m\n\u001b[1;32m      6\u001b[0m         \u001b[0msrc_str\u001b[0m\u001b[0;34m,\u001b[0m \u001b[0mtrg_str\u001b[0m \u001b[0;34m=\u001b[0m \u001b[0mline_list\u001b[0m\u001b[0;34m[\u001b[0m\u001b[0;36m0\u001b[0m\u001b[0;34m]\u001b[0m\u001b[0;34m.\u001b[0m\u001b[0mstrip\u001b[0m\u001b[0;34m(\u001b[0m\u001b[0;34m)\u001b[0m\u001b[0;34m,\u001b[0m \u001b[0mline_list\u001b[0m\u001b[0;34m[\u001b[0m\u001b[0;36m1\u001b[0m\u001b[0;34m]\u001b[0m\u001b[0;34m.\u001b[0m\u001b[0mstrip\u001b[0m\u001b[0;34m(\u001b[0m\u001b[0;34m)\u001b[0m\u001b[0;34m\u001b[0m\u001b[0;34m\u001b[0m\u001b[0m\n\u001b[1;32m      7\u001b[0m         \u001b[0mjaco_simil_scores_list\u001b[0m\u001b[0;34m.\u001b[0m\u001b[0mappend\u001b[0m\u001b[0;34m(\u001b[0m\u001b[0mjaro_similarity\u001b[0m\u001b[0;34m(\u001b[0m\u001b[0msrc_str\u001b[0m\u001b[0;34m,\u001b[0m \u001b[0mtrg_str\u001b[0m\u001b[0;34m)\u001b[0m\u001b[0;34m)\u001b[0m\u001b[0;34m\u001b[0m\u001b[0;34m\u001b[0m\u001b[0m\n\u001b[0;32m----> 8\u001b[0;31m \u001b[0mprint\u001b[0m\u001b[0;34m(\u001b[0m\u001b[0mlen\u001b[0m\u001b[0;34m(\u001b[0m\u001b[0mjaco_simil_scores\u001b[0m\u001b[0;34m)\u001b[0m\u001b[0;34m)\u001b[0m\u001b[0;34m\u001b[0m\u001b[0;34m\u001b[0m\u001b[0m\n\u001b[0m",
      "\u001b[0;31mNameError\u001b[0m: name 'jaco_simil_scores' is not defined"
     ]
    }
   ],
   "source": [
    "# Count all similarity scores - ! takes long - next time write to file\n",
    "jaco_simil_scores_list = []\n",
    "with open(PROC_DATA_PREFIX + '/' + 'en_ru_sort_uniq_nearduplrem', 'r', encoding='utf8') as inF:\n",
    "    for line in inF:\n",
    "        line_list = line.split('\\t')\n",
    "        src_str, trg_str = line_list[0].strip(), line_list[1].strip()\n",
    "        jaco_simil_scores_list.append(jaro_similarity(src_str, trg_str))"
   ]
  },
  {
   "cell_type": "code",
   "execution_count": 51,
   "metadata": {},
   "outputs": [
    {
     "name": "stdout",
     "output_type": "stream",
     "text": [
      "28972\n",
      "[1.0, 1.0, 1.0, 1.0, 1.0, 1.0, 1.0, 1.0, 1.0, 1.0, 1.0, 1.0, 1.0, 1.0, 1.0, 1.0, 1.0, 1.0, 1.0, 1.0, 1.0, 1.0, 1.0, 1.0, 1.0, 1.0, 1.0, 1.0, 1.0, 1.0, 1.0, 1.0, 1.0, 1.0, 1.0, 1.0, 1.0, 1.0, 1.0, 1.0, 1.0, 1.0, 1.0, 1.0, 1.0, 1.0, 1.0, 1.0, 1.0, 1.0, 1.0, 1.0, 1.0, 1.0, 1.0, 1.0, 1.0, 1.0, 1.0, 1.0, 1.0, 1.0, 1.0, 1.0, 1.0, 1.0, 1.0, 1.0, 1.0, 1.0, 1.0, 1.0, 1.0, 1.0, 1.0, 1.0, 1.0, 1.0, 1.0, 1.0, 1.0, 1.0, 1.0, 1.0, 1.0, 1.0, 1.0, 1.0, 1.0, 1.0, 1.0, 1.0, 1.0, 1.0, 1.0, 1.0, 1.0, 1.0, 1.0, 1.0, 1.0, 1.0, 1.0, 1.0, 1.0, 1.0, 1.0, 1.0, 1.0, 1.0, 1.0, 1.0, 1.0, 1.0, 1.0, 1.0, 1.0, 1.0, 1.0, 1.0, 1.0, 1.0, 1.0, 1.0, 1.0, 1.0, 1.0, 1.0, 1.0, 1.0, 1.0, 1.0, 1.0, 1.0, 1.0, 1.0, 1.0, 1.0, 1.0, 1.0, 1.0, 1.0, 1.0, 1.0, 1.0, 1.0, 1.0, 1.0, 1.0, 1.0, 1.0, 1.0, 1.0, 1.0, 1.0, 1.0, 1.0, 1.0, 1.0, 1.0, 1.0, 1.0, 1.0, 1.0, 1.0, 1.0, 1.0, 1.0, 1.0, 1.0, 1.0, 1.0, 1.0, 1.0, 1.0, 1.0, 1.0, 1.0, 1.0, 1.0, 1.0, 1.0, 1.0, 1.0, 1.0, 1.0, 1.0, 1.0, 1.0, 1.0, 1.0, 1.0, 1.0, 1.0, 1.0, 1.0, 1.0, 1.0, 1.0, 1.0, 1.0, 1.0, 1.0, 1.0, 1.0, 1.0, 1.0, 1.0, 1.0, 1.0, 1.0, 1.0, 1.0, 1.0, 1.0, 1.0, 1.0, 1.0, 1.0, 1.0, 1.0, 1.0, 1.0, 1.0, 1.0, 1.0, 1.0, 1.0, 1.0, 1.0, 1.0, 1.0, 1.0, 1.0, 1.0, 1.0, 1.0, 1.0, 1.0, 1.0, 1.0, 1.0, 1.0, 1.0, 0.9814814814814815, 0.9803921568627452, 0.9803921568627452, 0.9791666666666666, 0.9555555555555555, 0.9555555555555555, 0.9487179487179487, 0.9361111111111111, 0.906060606060606, 0.9047619047619048, 0.888888888888889, 0.8779732045691439, 0.8628987240829346, 0.8400560184991323, 0.835811480580337, 0.8283056812468577, 0.8274723266499582, 0.8245614035087719, 0.815172735760971, 0.8133186969083206, 0.807516339869281, 0.807516339869281, 0.807516339869281, 0.807516339869281, 0.807516339869281, 0.807516339869281, 0.807516339869281, 0.807516339869281, 0.807516339869281, 0.807516339869281, 0.807516339869281, 0.807516339869281, 0.807516339869281, 0.807516339869281, 0.807516339869281, 0.807516339869281, 0.807516339869281, 0.807516339869281, 0.807516339869281, 0.807516339869281, 0.807516339869281, 0.807516339869281, 0.807516339869281, 0.807516339869281, 0.807516339869281, 0.807516339869281, 0.8050201562106324, 0.80249261982253, 0.7968122031421264, 0.7952466015255176, 0.7907874568786548, 0.7847222222222223, 0.7847222222222223, 0.7847222222222223, 0.7826023391812865, 0.7788750991419713]\n"
     ]
    }
   ],
   "source": [
    "print(len(jaco_simil_scores_list))\n",
    "print(sorted(jaco_simil_scores_list, reverse=True)[:300])"
   ]
  },
  {
   "cell_type": "code",
   "execution_count": 53,
   "metadata": {},
   "outputs": [
    {
     "name": "stdout",
     "output_type": "stream",
     "text": [
      "   25971 /Users/alexskrn/Documents/TEXT_CORPORA/united_nations_corpus/en-ru/PREPROC_FILES/en_ru_sort_uniq_nearduplrem_dissim\r\n"
     ]
    }
   ],
   "source": [
    "# Keep lines where SRC and TRG are very distinct\n",
    "threshold = 0.45\n",
    "with open(PROC_DATA_PREFIX + '/' + 'en_ru_sort_uniq_nearduplrem', 'r', encoding='utf8') as inF_text, \\\n",
    "    open(PROC_DATA_PREFIX + '/' + 'en_ru_sort_uniq_nearduplrem_dissim', 'w', encoding='utf8') as toF_text:\n",
    "    for i, line in enumerate(inF_text):\n",
    "        if jaco_simil_scores_list[i] < threshold:  # If SRC and TRG are not too simialr, keep the line\n",
    "            toF_text.write(line)\n",
    "\n",
    "!wc -l {PROC_DATA_PREFIX}/'en_ru_sort_uniq_nearduplrem_dissim'"
   ]
  },
  {
   "cell_type": "markdown",
   "metadata": {},
   "source": [
    "### Pre-process & word-tokenize"
   ]
  },
  {
   "cell_type": "code",
   "execution_count": 62,
   "metadata": {},
   "outputs": [],
   "source": [
    "import string\n",
    "import nltk\n",
    "\n",
    "stopwords = ['the', 'a', 'an', 'of',\n",
    "#              's', 'and', 'и', 'or', 'или',\n",
    "#              'been', 'being', 'by'\n",
    "            ]\n",
    "\n",
    "def preprocess(text):\n",
    "    \"\"\"Return a string cleaned up.\"\"\"\n",
    "    # lowercase\n",
    "    text = text.lower()\n",
    "    # word-tokenize & remove numbers if the entire token consists of numbers\n",
    "    text = ' '.join(t for t in nltk.wordpunct_tokenize(text) if not t.isdigit() and not t in stopwords)\n",
    "    # remove punctuation\n",
    "    punct_remove = set(string.punctuation) | {'−', '\\t', '\\n', '\\r', '\\x0b', '\\x0c', '◦', '°'}\n",
    "    text = ''.join(char for char in text if char not in punct_remove)\n",
    "    # strip extra whitespaces\n",
    "    text = ' '.join(text.split())\n",
    "    return text"
   ]
  },
  {
   "cell_type": "code",
   "execution_count": 55,
   "metadata": {},
   "outputs": [
    {
     "data": {
      "text/plain": [
       "'participation as partner in international facility in russia to provide enrichment services for reliable supply of fuel to iran s nuclear reactors'"
      ]
     },
     "execution_count": 55,
     "metadata": {},
     "output_type": "execute_result"
    }
   ],
   "source": [
    "# check if it works as expected\n",
    "# text = \"\"\"!\"#$%&'()*+,-−./:;<=>?@[\\]^_`{|}~\"\"\"\n",
    "text = \"◦ The Participation as a partner in an the international facility in Russia to provide enrichment services for a reliable supply of fuel to Iran's nuclear reactors.\"\n",
    "preprocess(text)"
   ]
  },
  {
   "cell_type": "code",
   "execution_count": 63,
   "metadata": {},
   "outputs": [],
   "source": [
    "with open(PROC_DATA_PREFIX + '/' + 'en_ru_sort_uniq_nearduplrem_dissim', 'r', encoding='utf8') as inF, \\\n",
    "     open(PROC_DATA_PREFIX + '/' + 'en_ru_sort_uniq_nearduplrem_dissim_tok', 'w', encoding='utf8') as toF:\n",
    "    for line in inF:\n",
    "        line_list = line.split('\\t')\n",
    "        src_str, trg_str = line_list[0].strip(), line_list[1].strip()\n",
    "        toF.write(preprocess(src_str) + '\\t' + preprocess(trg_str) + '\\n')"
   ]
  },
  {
   "cell_type": "code",
   "execution_count": 64,
   "metadata": {},
   "outputs": [
    {
     "name": "stdout",
     "output_type": "stream",
     "text": [
      "   25971 /Users/alexskrn/Documents/TEXT_CORPORA/united_nations_corpus/en-ru/PREPROC_FILES/en_ru_sort_uniq_nearduplrem_dissim\n",
      "   25971 /Users/alexskrn/Documents/TEXT_CORPORA/united_nations_corpus/en-ru/PREPROC_FILES/en_ru_sort_uniq_nearduplrem_dissim_tok\n"
     ]
    }
   ],
   "source": [
    "!wc -l {PROC_DATA_PREFIX}/'en_ru_sort_uniq_nearduplrem_dissim'\n",
    "!wc -l {PROC_DATA_PREFIX}/'en_ru_sort_uniq_nearduplrem_dissim_tok'"
   ]
  },
  {
   "cell_type": "code",
   "execution_count": 65,
   "metadata": {},
   "outputs": [
    {
     "name": "stdout",
     "output_type": "stream",
     "text": [
      "BEFORE\n",
      "\n",
      "− Antoine Kesia-Mbe Mindua (Democratic Republic of Congo)\t- Антуан Кесия-Мбе Миндуа (Демократическая Республика Конго)\n",
      "− Howard Morrison (United Kingdom)\t- Говард Моррисон (Соединенное Королевство)\n",
      "◦ Development with IAEA of a standing multilateral mechanism for reliable access to nuclear fuel, based on ideas to be considered at the next meeting of the Board of Governors.\t:: создания совместно с МАГАТЭ постоянного многостороннего механизма надежного обеспечения доступа к ядерному топливу на основе идей, которые будут рассмотрены на следующем заседании Совета управляющих.\n",
      "◦ Establishment on commercial terms of a buffer stock to hold a reserve of up to five years' supply of nuclear fuel dedicated to Iran, with the participation and under supervision of IAEA.\t:: создания на коммерческих началах резервных запасов предназначенного для Ирана ядерного топлива, рассчитанных на пять лет, при участии и под контролем МАГАТЭ;\n",
      "\n",
      "AFTER\n",
      "\n",
      "antoine kesia mbe mindua democratic republic congo\tантуан кесия мбе миндуа демократическая республика конго\n",
      "howard morrison united kingdom\tговард моррисон соединенное королевство\n",
      "development with iaea standing multilateral mechanism for reliable access to nuclear fuel based on ideas to be considered at next meeting board governors\tсоздания совместно с магатэ постоянного многостороннего механизма надежного обеспечения доступа к ядерному топливу на основе идей которые будут рассмотрены на следующем заседании совета управляющих\n",
      "establishment on commercial terms buffer stock to hold reserve up to five years supply nuclear fuel dedicated to iran with participation and under supervision iaea\tсоздания на коммерческих началах резервных запасов предназначенного для ирана ядерного топлива рассчитанных на пять лет при участии и под контролем магатэ\n"
     ]
    }
   ],
   "source": [
    "print('BEFORE\\n')\n",
    "!head -2 {PROC_DATA_PREFIX}/'en_ru_sort_uniq_nearduplrem_dissim'\n",
    "!tail -2 {PROC_DATA_PREFIX}/'en_ru_sort_uniq_nearduplrem_dissim'\n",
    "print('\\nAFTER\\n')\n",
    "!head -2 {PROC_DATA_PREFIX}/'en_ru_sort_uniq_nearduplrem_dissim_tok'\n",
    "!tail -2 {PROC_DATA_PREFIX}/'en_ru_sort_uniq_nearduplrem_dissim_tok'"
   ]
  },
  {
   "cell_type": "markdown",
   "metadata": {},
   "source": [
    "### Count sentence lengths"
   ]
  },
  {
   "cell_type": "code",
   "execution_count": 59,
   "metadata": {},
   "outputs": [],
   "source": [
    "# Count sentence lengths\n",
    "def count_sent_len(data_prefix, file_in, file_out):\n",
    "    with open(data_prefix + '/' + file_in, 'r', encoding='utf8') as inF, \\\n",
    "        open(data_prefix + '/' + file_out, 'w', encoding='utf8') as toF_nums:\n",
    "        for line in inF:\n",
    "            line_list = line.split('\\t')\n",
    "            src_str, trg_str = line_list[0].strip(), line_list[1].strip()\n",
    "            src_len, trg_len = len(src_str.split()), len(trg_str.split())\n",
    "            toF_nums.write('{}\\t{}\\n'.format(src_len, trg_len))"
   ]
  },
  {
   "cell_type": "code",
   "execution_count": 66,
   "metadata": {},
   "outputs": [],
   "source": [
    "count_sent_len(PROC_DATA_PREFIX, 'en_ru_sort_uniq_nearduplrem_dissim_tok', 'sent_lengths.txt')"
   ]
  },
  {
   "cell_type": "code",
   "execution_count": 68,
   "metadata": {
    "scrolled": true
   },
   "outputs": [
    {
     "name": "stdout",
     "output_type": "stream",
     "text": [
      "   25971 /Users/alexskrn/Documents/TEXT_CORPORA/united_nations_corpus/en-ru/PREPROC_FILES/en_ru_sort_uniq_nearduplrem_dissim_tok\n",
      "   25971 /Users/alexskrn/Documents/TEXT_CORPORA/united_nations_corpus/en-ru/PREPROC_FILES/sent_lengths.txt\n",
      "7\t7\n",
      "4\t4\n",
      "4\t4\n"
     ]
    }
   ],
   "source": [
    "!wc -l {PROC_DATA_PREFIX}/'en_ru_sort_uniq_nearduplrem_dissim_tok'\n",
    "!wc -l {PROC_DATA_PREFIX}/'sent_lengths.txt'\n",
    "!head -3 {PROC_DATA_PREFIX}/'sent_lengths.txt'"
   ]
  },
  {
   "cell_type": "markdown",
   "metadata": {},
   "source": [
    "### Remove outliers - where difference in length between SRC and TRG is unusual\n",
    "\n",
    "Maximum number of standard deviations allowed in the difference in length between the source and target sentences"
   ]
  },
  {
   "cell_type": "code",
   "execution_count": 113,
   "metadata": {},
   "outputs": [],
   "source": [
    "import matplotlib.pyplot as plt\n",
    "import pandas as pd\n",
    "import numpy as np\n",
    "\n",
    "my_data = pd.read_csv(PROC_DATA_PREFIX + '/' + 'sent_lengths.txt', sep='\\t', header=None)\n",
    "my_data.columns = ['src_len', 'trg_len']"
   ]
  },
  {
   "cell_type": "code",
   "execution_count": 114,
   "metadata": {
    "scrolled": false
   },
   "outputs": [
    {
     "data": {
      "text/html": [
       "<div>\n",
       "<style scoped>\n",
       "    .dataframe tbody tr th:only-of-type {\n",
       "        vertical-align: middle;\n",
       "    }\n",
       "\n",
       "    .dataframe tbody tr th {\n",
       "        vertical-align: top;\n",
       "    }\n",
       "\n",
       "    .dataframe thead th {\n",
       "        text-align: right;\n",
       "    }\n",
       "</style>\n",
       "<table border=\"1\" class=\"dataframe\">\n",
       "  <thead>\n",
       "    <tr style=\"text-align: right;\">\n",
       "      <th></th>\n",
       "      <th>src_len</th>\n",
       "      <th>trg_len</th>\n",
       "      <th>diff</th>\n",
       "    </tr>\n",
       "  </thead>\n",
       "  <tbody>\n",
       "    <tr>\n",
       "      <td>0</td>\n",
       "      <td>7</td>\n",
       "      <td>7</td>\n",
       "      <td>0</td>\n",
       "    </tr>\n",
       "    <tr>\n",
       "      <td>1</td>\n",
       "      <td>4</td>\n",
       "      <td>4</td>\n",
       "      <td>0</td>\n",
       "    </tr>\n",
       "    <tr>\n",
       "      <td>2</td>\n",
       "      <td>4</td>\n",
       "      <td>4</td>\n",
       "      <td>0</td>\n",
       "    </tr>\n",
       "    <tr>\n",
       "      <td>3</td>\n",
       "      <td>5</td>\n",
       "      <td>5</td>\n",
       "      <td>0</td>\n",
       "    </tr>\n",
       "    <tr>\n",
       "      <td>4</td>\n",
       "      <td>5</td>\n",
       "      <td>5</td>\n",
       "      <td>0</td>\n",
       "    </tr>\n",
       "  </tbody>\n",
       "</table>\n",
       "</div>"
      ],
      "text/plain": [
       "   src_len  trg_len  diff\n",
       "0        7        7     0\n",
       "1        4        4     0\n",
       "2        4        4     0\n",
       "3        5        5     0\n",
       "4        5        5     0"
      ]
     },
     "execution_count": 114,
     "metadata": {},
     "output_type": "execute_result"
    }
   ],
   "source": [
    "my_data['diff'] = my_data.loc[:, 'src_len'] - my_data.loc[:, 'trg_len']\n",
    "my_data.head()"
   ]
  },
  {
   "cell_type": "code",
   "execution_count": 115,
   "metadata": {},
   "outputs": [
    {
     "name": "stdout",
     "output_type": "stream",
     "text": [
      "Mean difference and standard deviation of the difference in length between SRC and TRG senteces:\n",
      "-2.3534326749066268 4.74472866424436\n"
     ]
    }
   ],
   "source": [
    "diff_mean = np.mean(my_data.loc[:, \"diff\"])\n",
    "diff_std = np.std(my_data.loc[:, \"diff\"])\n",
    "print('Mean difference and standard deviation of the difference in length between SRC and TRG senteces:')\n",
    "print(diff_mean, diff_std)"
   ]
  },
  {
   "cell_type": "code",
   "execution_count": 116,
   "metadata": {
    "scrolled": true
   },
   "outputs": [
    {
     "data": {
      "image/png": "[encoded data removed]",
      "text/plain": [
       "<Figure size 432x288 with 1 Axes>"
      ]
     },
     "metadata": {
      "needs_background": "light"
     },
     "output_type": "display_data"
    }
   ],
   "source": [
    "plt.hist(my_data.loc[:, \"diff\"])\n",
    "plt.xlabel(\"difference in length between source and target sentences\")\n",
    "plt.ylabel(\"frequency\\n(i.e. how often such difference can be seen)\")\n",
    "plt.show()"
   ]
  },
  {
   "cell_type": "code",
   "execution_count": null,
   "metadata": {},
   "outputs": [],
   "source": [
    "# This means Russian sentences tend to be longer than the English ones"
   ]
  },
  {
   "cell_type": "code",
   "execution_count": 117,
   "metadata": {},
   "outputs": [
    {
     "name": "stdout",
     "output_type": "stream",
     "text": [
      "-11.842890003395347 7.136024653582094\n"
     ]
    }
   ],
   "source": [
    "num_std = 2\n",
    "limit_hi = diff_mean + num_std * diff_std\n",
    "limit_lo = diff_mean - num_std * diff_std\n",
    "print(limit_lo, limit_hi)"
   ]
  },
  {
   "cell_type": "code",
   "execution_count": 74,
   "metadata": {},
   "outputs": [],
   "source": [
    "# Inspect sentences\n",
    "with open(PROC_DATA_PREFIX + '/' + 'en_ru_sort_uniq_nearduplrem_dissim_tok', 'r', encoding='utf8') as inF, \\\n",
    "     open(PROC_DATA_PREFIX + '/' + 'outliers_at_2_std.txt', 'w', encoding='utf8') as toF:\n",
    "    for idx, line in enumerate(inF):\n",
    "        if (my_data.loc[:, \"diff\"][idx] > limit_hi) or (my_data.loc[:, \"diff\"][idx] < limit_lo):\n",
    "            toF.write(line)  # write sentences where difference in length is outside of above limits"
   ]
  },
  {
   "cell_type": "code",
   "execution_count": 75,
   "metadata": {},
   "outputs": [
    {
     "name": "stdout",
     "output_type": "stream",
     "text": [
      "    1238 /Users/alexskrn/Documents/TEXT_CORPORA/united_nations_corpus/en-ru/PREPROC_FILES/outliers_at_2_std.txt\r\n"
     ]
    }
   ],
   "source": [
    "!wc -l {PROC_DATA_PREFIX}/'outliers_at_2_std.txt'"
   ]
  },
  {
   "cell_type": "code",
   "execution_count": 76,
   "metadata": {},
   "outputs": [
    {
     "name": "stdout",
     "output_type": "stream",
     "text": [
      "   25971 /Users/alexskrn/Documents/TEXT_CORPORA/united_nations_corpus/en-ru/PREPROC_FILES/en_ru_sort_uniq_nearduplrem_dissim_tok\n",
      "   24733 /Users/alexskrn/Documents/TEXT_CORPORA/united_nations_corpus/en-ru/PREPROC_FILES/en_ru_sort_uniq_nearduplrem_dissim_tok_2std\n"
     ]
    }
   ],
   "source": [
    "# remove outliers from raw text & tokenized text files\n",
    "with open(PROC_DATA_PREFIX + '/' + 'en_ru_sort_uniq_nearduplrem_dissim_tok', 'r', encoding='utf8') as inF, \\\n",
    "     open(PROC_DATA_PREFIX + '/' + 'en_ru_sort_uniq_nearduplrem_dissim_tok_2std', 'w', encoding='utf8') as toF:\n",
    "    for idx, line in enumerate(inF):\n",
    "        if (my_data.loc[:, \"diff\"][idx] < limit_hi) and (my_data.loc[:, \"diff\"][idx] > limit_lo):\n",
    "            toF.write(line)  # keep line if difference is within above limits\n",
    "            \n",
    "!wc -l {PROC_DATA_PREFIX}/'en_ru_sort_uniq_nearduplrem_dissim_tok'\n",
    "!wc -l {PROC_DATA_PREFIX}/'en_ru_sort_uniq_nearduplrem_dissim_tok_2std'"
   ]
  },
  {
   "cell_type": "code",
   "execution_count": 77,
   "metadata": {},
   "outputs": [
    {
     "name": "stdout",
     "output_type": "stream",
     "text": [
      "   25971 /Users/alexskrn/Documents/TEXT_CORPORA/united_nations_corpus/en-ru/PREPROC_FILES/en_ru_sort_uniq_nearduplrem_dissim\n",
      "   24733 /Users/alexskrn/Documents/TEXT_CORPORA/united_nations_corpus/en-ru/PREPROC_FILES/en_ru_sort_uniq_nearduplrem_dissim_2std\n"
     ]
    }
   ],
   "source": [
    "with open(PROC_DATA_PREFIX + '/' + 'en_ru_sort_uniq_nearduplrem_dissim', 'r', encoding='utf8') as inF, \\\n",
    "     open(PROC_DATA_PREFIX + '/' + 'en_ru_sort_uniq_nearduplrem_dissim_2std', 'w', encoding='utf8') as toF:\n",
    "    for idx, line in enumerate(inF):\n",
    "        if (my_data.loc[:, \"diff\"][idx] < limit_hi) and (my_data.loc[:, \"diff\"][idx] > limit_lo):\n",
    "            toF.write(line)  # keep line if difference is within above limits\n",
    "            \n",
    "!wc -l {PROC_DATA_PREFIX}/'en_ru_sort_uniq_nearduplrem_dissim'\n",
    "!wc -l {PROC_DATA_PREFIX}/'en_ru_sort_uniq_nearduplrem_dissim_2std'"
   ]
  },
  {
   "cell_type": "markdown",
   "metadata": {},
   "source": [
    "### Remove too long sentences"
   ]
  },
  {
   "cell_type": "code",
   "execution_count": 78,
   "metadata": {
    "scrolled": true
   },
   "outputs": [
    {
     "data": {
      "text/html": [
       "<div>\n",
       "<style scoped>\n",
       "    .dataframe tbody tr th:only-of-type {\n",
       "        vertical-align: middle;\n",
       "    }\n",
       "\n",
       "    .dataframe tbody tr th {\n",
       "        vertical-align: top;\n",
       "    }\n",
       "\n",
       "    .dataframe thead th {\n",
       "        text-align: right;\n",
       "    }\n",
       "</style>\n",
       "<table border=\"1\" class=\"dataframe\">\n",
       "  <thead>\n",
       "    <tr style=\"text-align: right;\">\n",
       "      <th></th>\n",
       "      <th>src_len</th>\n",
       "      <th>trg_len</th>\n",
       "    </tr>\n",
       "  </thead>\n",
       "  <tbody>\n",
       "    <tr>\n",
       "      <td>0</td>\n",
       "      <td>7</td>\n",
       "      <td>7</td>\n",
       "    </tr>\n",
       "    <tr>\n",
       "      <td>1</td>\n",
       "      <td>4</td>\n",
       "      <td>4</td>\n",
       "    </tr>\n",
       "    <tr>\n",
       "      <td>2</td>\n",
       "      <td>4</td>\n",
       "      <td>4</td>\n",
       "    </tr>\n",
       "    <tr>\n",
       "      <td>3</td>\n",
       "      <td>5</td>\n",
       "      <td>5</td>\n",
       "    </tr>\n",
       "    <tr>\n",
       "      <td>4</td>\n",
       "      <td>5</td>\n",
       "      <td>5</td>\n",
       "    </tr>\n",
       "  </tbody>\n",
       "</table>\n",
       "</div>"
      ],
      "text/plain": [
       "   src_len  trg_len\n",
       "0        7        7\n",
       "1        4        4\n",
       "2        4        4\n",
       "3        5        5\n",
       "4        5        5"
      ]
     },
     "execution_count": 78,
     "metadata": {},
     "output_type": "execute_result"
    }
   ],
   "source": [
    "import pandas as pd\n",
    "\n",
    "my_data = pd.read_csv(PROC_DATA_PREFIX + '/' + 'sent_lengths.txt', sep='\\t', header=None)\n",
    "my_data.columns = ['src_len', 'trg_len']\n",
    "my_data.head()"
   ]
  },
  {
   "cell_type": "code",
   "execution_count": 79,
   "metadata": {},
   "outputs": [
    {
     "data": {
      "text/plain": [
       "(25971, 2)"
      ]
     },
     "execution_count": 79,
     "metadata": {},
     "output_type": "execute_result"
    }
   ],
   "source": [
    "my_data.shape"
   ]
  },
  {
   "cell_type": "code",
   "execution_count": 80,
   "metadata": {},
   "outputs": [],
   "source": [
    "# Remove too long sentences\n",
    "threshold = 40\n",
    "with open(PROC_DATA_PREFIX + '/' + 'en_ru_sort_uniq_nearduplrem_dissim_2std', 'r', encoding='utf8') as inF, \\\n",
    "     open(PROC_DATA_PREFIX + '/' + 'en_ru_sort_uniq_nearduplrem_dissim_2std_40', 'w', encoding='utf8') as toF:\n",
    "    for idx, line in enumerate(inF):\n",
    "        if (my_data.loc[:, 'src_len'][idx] < threshold) and (my_data.loc[:, 'trg_len'][idx] < threshold):\n",
    "            toF.write(line)"
   ]
  },
  {
   "cell_type": "code",
   "execution_count": 81,
   "metadata": {
    "scrolled": true
   },
   "outputs": [
    {
     "name": "stdout",
     "output_type": "stream",
     "text": [
      "   24733 /Users/alexskrn/Documents/TEXT_CORPORA/united_nations_corpus/en-ru/PREPROC_FILES/en_ru_sort_uniq_nearduplrem_dissim_2std\n",
      "   14561 /Users/alexskrn/Documents/TEXT_CORPORA/united_nations_corpus/en-ru/PREPROC_FILES/en_ru_sort_uniq_nearduplrem_dissim_2std_40\n"
     ]
    }
   ],
   "source": [
    "!wc -l {PROC_DATA_PREFIX}/'en_ru_sort_uniq_nearduplrem_dissim_2std'\n",
    "!wc -l {PROC_DATA_PREFIX}/'en_ru_sort_uniq_nearduplrem_dissim_2std_40'"
   ]
  },
  {
   "cell_type": "code",
   "execution_count": 82,
   "metadata": {},
   "outputs": [
    {
     "name": "stdout",
     "output_type": "stream",
     "text": [
      "   24733 /Users/alexskrn/Documents/TEXT_CORPORA/united_nations_corpus/en-ru/PREPROC_FILES/en_ru_sort_uniq_nearduplrem_dissim_tok_2std\n",
      "   14561 /Users/alexskrn/Documents/TEXT_CORPORA/united_nations_corpus/en-ru/PREPROC_FILES/en_ru_sort_uniq_nearduplrem_dissim_tok_2std_40\n"
     ]
    }
   ],
   "source": [
    "threshold = 40\n",
    "with open(PROC_DATA_PREFIX + '/' + 'en_ru_sort_uniq_nearduplrem_dissim_tok_2std', 'r', encoding='utf8') as inF, \\\n",
    "     open(PROC_DATA_PREFIX + '/' + 'en_ru_sort_uniq_nearduplrem_dissim_tok_2std_40', 'w', encoding='utf8') as toF:\n",
    "    for idx, line in enumerate(inF):\n",
    "        if (my_data.loc[:, 'src_len'][idx] < threshold) and (my_data.loc[:, 'trg_len'][idx] < threshold):\n",
    "            toF.write(line)\n",
    "\n",
    "!wc -l {PROC_DATA_PREFIX}/'en_ru_sort_uniq_nearduplrem_dissim_tok_2std'\n",
    "!wc -l {PROC_DATA_PREFIX}/'en_ru_sort_uniq_nearduplrem_dissim_tok_2std_40'"
   ]
  },
  {
   "cell_type": "markdown",
   "metadata": {},
   "source": [
    "## Word Alignment"
   ]
  },
  {
   "cell_type": "code",
   "execution_count": 83,
   "metadata": {},
   "outputs": [],
   "source": [
    "corpus_en = []\n",
    "corpus_ru = []\n",
    "with open(PROC_DATA_PREFIX + '/' + 'en_ru_sort_uniq_nearduplrem_dissim_tok_2std_40', 'r', encoding='utf8') as inF:\n",
    "    for line in inF:\n",
    "        line_list = line.split('\\t')\n",
    "        src_str, trg_str = line_list[0].strip(), line_list[1].strip()\n",
    "        corpus_en.append(src_str.split())\n",
    "        corpus_ru.append(trg_str.split())"
   ]
  },
  {
   "cell_type": "code",
   "execution_count": 84,
   "metadata": {},
   "outputs": [
    {
     "name": "stdout",
     "output_type": "stream",
     "text": [
      "[['antoine', 'kesia', 'mbe', 'mindua', 'democratic', 'republic', 'congo'], ['howard', 'morrison', 'united', 'kingdom']]\n",
      "[['антуан', 'кесия', 'мбе', 'миндуа', 'демократическая', 'республика', 'конго'], ['говард', 'моррисон', 'соединенное', 'королевство']]\n"
     ]
    }
   ],
   "source": [
    "print(corpus_en[:2])\n",
    "print(corpus_ru[:2])"
   ]
  },
  {
   "cell_type": "code",
   "execution_count": 85,
   "metadata": {},
   "outputs": [],
   "source": [
    "assert len(corpus_en) == len(corpus_ru)"
   ]
  },
  {
   "cell_type": "code",
   "execution_count": 86,
   "metadata": {},
   "outputs": [],
   "source": [
    "import nltk\n",
    "from nltk.translate.api import AlignedSent\n",
    "# from nltk.translate.ibm3 import IBMModel3\n",
    "from nltk.translate.ibm2 import IBMModel2"
   ]
  },
  {
   "cell_type": "code",
   "execution_count": 87,
   "metadata": {},
   "outputs": [],
   "source": [
    "bitext = []\n",
    "for en, ru in zip(corpus_en, corpus_ru):\n",
    "    bitext.append(AlignedSent(en, ru))"
   ]
  },
  {
   "cell_type": "code",
   "execution_count": 88,
   "metadata": {},
   "outputs": [
    {
     "data": {
      "text/plain": [
       "[AlignedSent(['antoine', 'kesia', 'mbe', 'mindua', 'democratic', 'republic', 'congo'], ['антуан', 'кесия', 'мбе', 'миндуа', 'демократическая', 'республика', 'конго'], Alignment([])),\n",
       " AlignedSent(['howard', 'morrison', 'united', 'kingdom'], ['говард', 'моррисон', 'соединенное', 'королевство'], Alignment([]))]"
      ]
     },
     "execution_count": 88,
     "metadata": {},
     "output_type": "execute_result"
    }
   ],
   "source": [
    "bitext[:2]"
   ]
  },
  {
   "cell_type": "code",
   "execution_count": 89,
   "metadata": {},
   "outputs": [],
   "source": [
    "ibm2 = IBMModel2(bitext, 10)"
   ]
  },
  {
   "cell_type": "code",
   "execution_count": 90,
   "metadata": {
    "scrolled": false
   },
   "outputs": [
    {
     "data": {
      "text/plain": [
       "[AlignedSent(['antoine', 'kesia', 'mbe', 'mindua', 'democratic', 'republic', 'congo'], ['антуан', 'кесия', 'мбе', 'миндуа', 'демократическая', 'республика', 'конго'], Alignment([(0, 0), (1, 1), (2, 2), (3, 3), (4, 4), (5, 5), (6, 6)])),\n",
       " AlignedSent(['howard', 'morrison', 'united', 'kingdom'], ['говард', 'моррисон', 'соединенное', 'королевство'], Alignment([(0, 0), (1, 1), (2, 2), (3, 3)]))]"
      ]
     },
     "execution_count": 90,
     "metadata": {},
     "output_type": "execute_result"
    }
   ],
   "source": [
    "bitext[:2]"
   ]
  },
  {
   "cell_type": "code",
   "execution_count": 91,
   "metadata": {
    "scrolled": true
   },
   "outputs": [
    {
     "name": "stdout",
     "output_type": "stream",
     "text": [
      "{'_words': ['antoine', 'kesia', 'mbe', 'mindua', 'democratic', 'republic', 'congo'], '_mots': ['антуан', 'кесия', 'мбе', 'миндуа', 'демократическая', 'республика', 'конго'], '_alignment': Alignment([(0, 0), (1, 1), (2, 2), (3, 3), (4, 4), (5, 5), (6, 6)])}\n"
     ]
    }
   ],
   "source": [
    "print(vars(bitext[0]))"
   ]
  },
  {
   "cell_type": "code",
   "execution_count": 92,
   "metadata": {
    "scrolled": false
   },
   "outputs": [
    {
     "name": "stdout",
     "output_type": "stream",
     "text": [
      "['antoine', 'kesia', 'mbe', 'mindua', 'democratic', 'republic', 'congo']\n",
      "['антуан', 'кесия', 'мбе', 'миндуа', 'демократическая', 'республика', 'конго']\n",
      "0-0 1-1 2-2 3-3 4-4 5-5 6-6\n"
     ]
    },
    {
     "data": {
      "text/plain": [
       "Alignment([(0, 0), (1, 1), (2, 2), (3, 3), (4, 4), (5, 5), (6, 6)])"
      ]
     },
     "execution_count": 92,
     "metadata": {},
     "output_type": "execute_result"
    }
   ],
   "source": [
    "print(bitext[0]._words)\n",
    "print(bitext[0]._mots)\n",
    "print(bitext[0]._alignment)\n",
    "bitext[0]._alignment"
   ]
  },
  {
   "cell_type": "code",
   "execution_count": 93,
   "metadata": {},
   "outputs": [
    {
     "data": {
      "text/plain": [
       "14561"
      ]
     },
     "execution_count": 93,
     "metadata": {},
     "output_type": "execute_result"
    }
   ],
   "source": [
    "len(bitext)"
   ]
  },
  {
   "cell_type": "markdown",
   "metadata": {},
   "source": [
    "### Extract Glossary"
   ]
  },
  {
   "cell_type": "code",
   "execution_count": 94,
   "metadata": {},
   "outputs": [
    {
     "name": "stdout",
     "output_type": "stream",
     "text": [
      "(0, 0)\n",
      "antoine \t антуан\n",
      "(3, 3)\n",
      "mindua \t миндуа\n",
      "(5, 5)\n",
      "republic \t республика\n",
      "(6, 6)\n",
      "congo \t конго\n",
      "(4, 4)\n",
      "democratic \t демократическая\n",
      "(2, 2)\n",
      "mbe \t мбе\n",
      "(1, 1)\n",
      "kesia \t кесия\n"
     ]
    }
   ],
   "source": [
    "for aligned_sent in bitext[0:1]:\n",
    "    for pair in aligned_sent._alignment:\n",
    "        print(pair)\n",
    "        try:\n",
    "            print(aligned_sent._words[pair[0]], '\\t', aligned_sent._mots[pair[1]])\n",
    "        except TypeError:\n",
    "            print(aligned_sent._words[pair[0]], '\\t', '--')"
   ]
  },
  {
   "cell_type": "code",
   "execution_count": 95,
   "metadata": {},
   "outputs": [],
   "source": [
    "with open(PROC_DATA_PREFIX + '/' + 'lexicon_new_40', 'w', encoding='utf8') as toF:\n",
    "    for aligned_sent in bitext:\n",
    "        for pair in aligned_sent._alignment:\n",
    "            try:\n",
    "                print(aligned_sent._words[pair[0]], '\\t', aligned_sent._mots[pair[1]], file=toF)\n",
    "            except TypeError:\n",
    "                print(aligned_sent._words[pair[0]], '\\t', '--', file=toF)"
   ]
  },
  {
   "cell_type": "code",
   "execution_count": 96,
   "metadata": {
    "scrolled": true
   },
   "outputs": [
    {
     "name": "stdout",
     "output_type": "stream",
     "text": [
      "  951654 /Users/alexskrn/Documents/TEXT_CORPORA/united_nations_corpus/en-ru/PREPROC_FILES/lexicon\n",
      "  381171 /Users/alexskrn/Documents/TEXT_CORPORA/united_nations_corpus/en-ru/PREPROC_FILES/lexicon40\n",
      "  494045 /Users/alexskrn/Documents/TEXT_CORPORA/united_nations_corpus/en-ru/PREPROC_FILES/lexicon_new_40\n"
     ]
    }
   ],
   "source": [
    "!wc -l {PROC_DATA_PREFIX}/'lexicon'\n",
    "!wc -l {PROC_DATA_PREFIX}/'lexicon40'\n",
    "!wc -l {PROC_DATA_PREFIX}/'lexicon_new_40'"
   ]
  },
  {
   "cell_type": "code",
   "execution_count": null,
   "metadata": {},
   "outputs": [],
   "source": []
  }
 ],
 "metadata": {
  "kernelspec": {
   "display_name": "Python 3",
   "language": "python",
   "name": "python3"
  },
  "language_info": {
   "codemirror_mode": {
    "name": "ipython",
    "version": 3
   },
   "file_extension": ".py",
   "mimetype": "text/x-python",
   "name": "python",
   "nbconvert_exporter": "python",
   "pygments_lexer": "ipython3",
   "version": "3.6.8"
  }
 },
 "nbformat": 4,
 "nbformat_minor": 2
}
